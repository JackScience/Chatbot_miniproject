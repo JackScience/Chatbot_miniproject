{
 "cells": [
  {
   "cell_type": "code",
   "execution_count": 5,
   "metadata": {
    "colab": {
     "base_uri": "https://localhost:8080/"
    },
    "id": "1ZpkEp7u4yJf",
    "outputId": "4bcd7ba1-7774-410e-8176-82834374d309"
   },
   "outputs": [
    {
     "name": "stdout",
     "output_type": "stream",
     "text": [
      "Drive already mounted at /content/drive; to attempt to forcibly remount, call drive.mount(\"/content/drive\", force_remount=True).\n"
     ]
    }
   ],
   "source": [
    "from google.colab import drive\n",
    "drive.mount('/content/drive')"
   ]
  },
  {
   "cell_type": "markdown",
   "metadata": {
    "id": "s06854YE4KVn"
   },
   "source": [
    "# Intent Recognition In Chatbot System\n",
    "\n",
    "In this project, I will be building machine learning models that can recognize intents of user inputs in chatbot systems. A chatbot is a program that conducts a conversation via auditory or textual methods. In practice chatbots are used in many different purposes including customer services or information acquisition. Today, most chatbots are accessed via virtual assistants such as Google Assistant, Apple Siri, Amazon Alexa, via messaging apps such as Facebook Messenger, or via individual organization’ apps and websites.\n",
    "Many chatbot systems that contains the intent recognition module which is trying to figuring out what the users want when interacting with the chatbot. For example, an user might say “find restaurants near me”, “find Vietnamese restaurants near me” which all have the “find_restaurant” intent. Usually, a goal-oriented chatbot has a pre-defined set of intents (goal-oriented chatbot is a type of chatbot that helps users do a specific task like set an alarm, find restaurnts, order pizza, …). For example, an virtual assistants might contains the following intents: set_alarm, find_restaurants, open_app, find_video, … So, the purpose of this project is trying to find the intent of a user input using this dataset https://github.com/snipsco/nlu-benchmark/tree/master/2017-06-custom-intent-engines. This problem can be treated as a classification problem which classifies a user input text into a category which is an intent. \n",
    "So, in this project you will do the following:\n",
    "<br>\n",
    "- Collecting the data\n",
    "- Preprocessing the data\n",
    "- Understanding the data\n",
    "- Represent user texts as vectors using TfidfVectorizer\n",
    "- Train, evaluate baseline Logistic Regression model\n",
    "- Train, evaluate cross-validation Logistic Regression model\n",
    "- Learning about word embeddings\n",
    "- Represent user texts as vectors using word embedding with spaCy\n",
    "- Train, evaluate Feedforward Neural Network model\n",
    "- Error analysis\n",
    "- Improving the models\n",
    "- Deploy the models"
   ]
  },
  {
   "cell_type": "markdown",
   "metadata": {
    "id": "kMFpwSec4KVx"
   },
   "source": [
    "## Collecting and preprocessing the data"
   ]
  },
  {
   "cell_type": "markdown",
   "metadata": {
    "id": "Fr0Ze8nY4KVy"
   },
   "source": [
    "I will use this data set https://github.com/snipsco/nlu-benchmark/tree/master/2017-06-custom-intent-engines. The data is originally collected as a benchmark for chatbot creating frameworks. Those frameworks usually contain intents classification and other features, here I only focus on the intent classification feature.\n",
    "<br>\n",
    "I have already included the data in the **data** folder and only keep the files that I need for this project.\n",
    "<br>\n",
    "Each folder includes data for the intent and inside each of them contains two JSON files, one for training and one for testing."
   ]
  },
  {
   "cell_type": "markdown",
   "metadata": {
    "id": "hZRauB0j4KVz"
   },
   "source": [
    "### Import some libs"
   ]
  },
  {
   "cell_type": "code",
   "execution_count": 6,
   "metadata": {
    "id": "6xm3z5Xs4KVz"
   },
   "outputs": [],
   "source": [
    "import numpy as np\n",
    "import sys\n",
    "import os\n",
    "import json\n",
    "import pandas as pd\n",
    "from sklearn.utils import shuffle"
   ]
  },
  {
   "cell_type": "markdown",
   "metadata": {
    "id": "VnJODNHY4KVz"
   },
   "source": [
    "### Read json files\n",
    "Loading the JSON data into **train_df** and **test_df** dataframes. The dataframes have two columns which are **text** (the user input text), **intent** (the intent of the user input text)."
   ]
  },
  {
   "cell_type": "code",
   "execution_count": 7,
   "metadata": {
    "id": "qhZ10Xj_4KV0"
   },
   "outputs": [],
   "source": [
    "def get_json_examples(intent_name, json_data):\n",
    "    examples = []\n",
    "    for e in json_data:\n",
    "        parts = []\n",
    "        for p in e[\"data\"]:\n",
    "            parts.append(p[\"text\"])\n",
    "        examples.append({\n",
    "            \"intent\": intent_name,\n",
    "            \"text\": \"\".join(parts)\n",
    "        })\n",
    "    return examples\n",
    "\n",
    "train_json_examples = []\n",
    "test_json_examples = []\n",
    "\n",
    "for intent_name in next(os.walk(\"/content/drive/MyDrive/MLP305x_asm1_longdhFX06754@funix.edu.vn/data\"))[1]:\n",
    "    train_file = f\"/content/drive/MyDrive/MLP305x_asm1_longdhFX06754@funix.edu.vn/data/{intent_name}/train_{intent_name}_full.json\"\n",
    "    test_file = f\"/content/drive/MyDrive/MLP305x_asm1_longdhFX06754@funix.edu.vn/data/{intent_name}/validate_{intent_name}.json\"\n",
    "\n",
    "    with open(train_file, \"r\", encoding=\"utf8\") as f:\n",
    "        train_json = json.load(f)\n",
    "        train_json_examples += get_json_examples(intent_name, train_json[intent_name])\n",
    "        \n",
    "    with open(test_file, \"r\", encoding=\"utf8\") as f:\n",
    "        test_json = json.load(f)\n",
    "        test_json_examples += get_json_examples(intent_name, test_json[intent_name])\n",
    "        \n",
    "train_df = pd.DataFrame.from_records(train_json_examples)\n",
    "test_df = pd.DataFrame.from_records(test_json_examples)\n",
    "\n",
    "train_df = shuffle(train_df, random_state=10)\n",
    "test_df = shuffle(test_df, random_state=10)"
   ]
  },
  {
   "cell_type": "markdown",
   "metadata": {
    "id": "lPWu9CPN4KV0"
   },
   "source": [
    "### Plot bar graphs"
   ]
  },
  {
   "cell_type": "markdown",
   "metadata": {
    "id": "8AvqctG64KV0"
   },
   "source": [
    "Plot a bar graph to count the number of texts for each intent in the **train_df**."
   ]
  },
  {
   "cell_type": "code",
   "execution_count": 8,
   "metadata": {
    "colab": {
     "base_uri": "https://localhost:8080/"
    },
    "id": "YogQvaFIFYAu",
    "outputId": "94cb3476-9e22-42af-f413-29e3fb5c60db"
   },
   "outputs": [
    {
     "data": {
      "text/plain": [
       "PlayMusic               2000\n",
       "GetWeather              2000\n",
       "BookRestaurant          1973\n",
       "SearchScreeningEvent    1959\n",
       "RateBook                1956\n",
       "SearchCreativeWork      1954\n",
       "AddToPlaylist           1942\n",
       "Name: intent, dtype: int64"
      ]
     },
     "execution_count": 8,
     "metadata": {
      "tags": []
     },
     "output_type": "execute_result"
    }
   ],
   "source": [
    "train_df['intent'].value_counts()\r\n"
   ]
  },
  {
   "cell_type": "code",
   "execution_count": 9,
   "metadata": {
    "id": "yLLaFM9XFDjs"
   },
   "outputs": [],
   "source": [
    "import matplotlib.pyplot as plt\r\n"
   ]
  },
  {
   "cell_type": "code",
   "execution_count": 10,
   "metadata": {
    "colab": {
     "base_uri": "https://localhost:8080/",
     "height": 467
    },
    "id": "8ln5dpp04KV0",
    "outputId": "e433295c-1709-4303-96a7-44341ed027e4"
   },
   "outputs": [
    {
     "data": {
      "image/png": "[encoded data removed]",
      "text/plain": [
       "<Figure size 720x432 with 1 Axes>"
      ]
     },
     "metadata": {
      "needs_background": "light",
      "tags": []
     },
     "output_type": "display_data"
    }
   ],
   "source": [
    "fig, ax = plt.subplots(figsize = (10,6))\n",
    "ax.bar(train_df['intent'].value_counts().index,train_df['intent'].value_counts()\n",
    ")\n",
    "ax.set_title('The number of texts for each intent in the train_df')\n",
    "plt.xticks(rotation = 45)\n",
    "for bar in ax.patches: \n",
    "    \n",
    "  # Using Matplotlib's annotate function and \n",
    "  # passing the coordinates where the annotation shall be done \n",
    "  # x-coordinate: bar.get_x() + bar.get_width() / 2 \n",
    "  # y-coordinate: bar.get_height() \n",
    "  # free space to be left to make graph pleasing: (0, 8) \n",
    "  # ha and va stand for the horizontal and vertical alignment \n",
    "  ax.annotate(bar.get_height(),  \n",
    "                   (bar.get_x() + bar.get_width() / 2,  \n",
    "                    bar.get_height()), ha='center', va='center', \n",
    "                   size=9, xytext=(0, 8), \n",
    "                   textcoords='offset points') \n",
    "plt.show()"
   ]
  },
  {
   "cell_type": "markdown",
   "metadata": {
    "id": "N1SrH6si4KV1"
   },
   "source": [
    "Plot a bar graph to count the number of texts for each intent in the **test_df**."
   ]
  },
  {
   "cell_type": "code",
   "execution_count": 11,
   "metadata": {
    "colab": {
     "base_uri": "https://localhost:8080/"
    },
    "id": "49FMqrDcG6us",
    "outputId": "1d18ebba-8bb8-4269-8c88-930d9eb9ad46"
   },
   "outputs": [
    {
     "data": {
      "text/plain": [
       "RateBook                100\n",
       "GetWeather              100\n",
       "SearchScreeningEvent    100\n",
       "SearchCreativeWork      100\n",
       "BookRestaurant          100\n",
       "PlayMusic               100\n",
       "AddToPlaylist           100\n",
       "Name: intent, dtype: int64"
      ]
     },
     "execution_count": 11,
     "metadata": {
      "tags": []
     },
     "output_type": "execute_result"
    }
   ],
   "source": [
    "test_df['intent'].value_counts()\r\n"
   ]
  },
  {
   "cell_type": "code",
   "execution_count": 12,
   "metadata": {
    "colab": {
     "base_uri": "https://localhost:8080/",
     "height": 467
    },
    "id": "iUw2t8op4KV1",
    "outputId": "3ae1c21f-1bb2-4c6d-fb7f-df57710f9a38",
    "scrolled": true
   },
   "outputs": [
    {
     "data": {
      "image/png": "[encoded data removed]",
      "text/plain": [
       "<Figure size 720x432 with 1 Axes>"
      ]
     },
     "metadata": {
      "needs_background": "light",
      "tags": []
     },
     "output_type": "display_data"
    }
   ],
   "source": [
    "fig, ax = plt.subplots(figsize = (10,6))\n",
    "ax.bar(test_df['intent'].value_counts().index,test_df['intent'].value_counts()\n",
    ")\n",
    "ax.set_title('The number of texts for each intent in the test_df')\n",
    "plt.xticks(rotation = 45)\n",
    "for bar in ax.patches: \n",
    "    \n",
    "  # Using Matplotlib's annotate function and \n",
    "  # passing the coordinates where the annotation shall be done \n",
    "  # x-coordinate: bar.get_x() + bar.get_width() / 2 \n",
    "  # y-coordinate: bar.get_height() \n",
    "  # free space to be left to make graph pleasing: (0, 8) \n",
    "  # ha and va stand for the horizontal and vertical alignment \n",
    "  ax.annotate(bar.get_height(),  \n",
    "                   (bar.get_x() + bar.get_width() / 2,  \n",
    "                    bar.get_height()), ha='center', va='center', \n",
    "                   size=9, xytext=(0, 8), \n",
    "                   textcoords='offset points') \n",
    "plt.show()"
   ]
  },
  {
   "cell_type": "markdown",
   "metadata": {
    "id": "wfWE6Z2r4KV2"
   },
   "source": [
    "\n",
    "**The train set is balanced**"
   ]
  },
  {
   "cell_type": "markdown",
   "metadata": {
    "id": "4F69Wm4g4KV2"
   },
   "source": [
    "### Look at the data\n",
    "let's look at a few examples in the data to get a sense of what the data is about."
   ]
  },
  {
   "cell_type": "markdown",
   "metadata": {
    "id": "BueUj78r4KV2"
   },
   "source": [
    "Print the first 30 examples in the **train_df**"
   ]
  },
  {
   "cell_type": "code",
   "execution_count": 13,
   "metadata": {
    "colab": {
     "base_uri": "https://localhost:8080/",
     "height": 935
    },
    "id": "I_PfiWCV4KV2",
    "outputId": "3d81ce97-177c-483d-ac2d-d2bee8bcabb7",
    "scrolled": true
   },
   "outputs": [
    {
     "data": {
      "text/html": [
       "<div>\n",
       "<style scoped>\n",
       "    .dataframe tbody tr th:only-of-type {\n",
       "        vertical-align: middle;\n",
       "    }\n",
       "\n",
       "    .dataframe tbody tr th {\n",
       "        vertical-align: top;\n",
       "    }\n",
       "\n",
       "    .dataframe thead th {\n",
       "        text-align: right;\n",
       "    }\n",
       "</style>\n",
       "<table border=\"1\" class=\"dataframe\">\n",
       "  <thead>\n",
       "    <tr style=\"text-align: right;\">\n",
       "      <th></th>\n",
       "      <th>intent</th>\n",
       "      <th>text</th>\n",
       "    </tr>\n",
       "  </thead>\n",
       "  <tbody>\n",
       "    <tr>\n",
       "      <th>12353</th>\n",
       "      <td>BookRestaurant</td>\n",
       "      <td>book any popular puglia serving oyster bar for...</td>\n",
       "    </tr>\n",
       "    <tr>\n",
       "      <th>10554</th>\n",
       "      <td>AddToPlaylist</td>\n",
       "      <td>Add louis nelson delisle to the pulse of ameri...</td>\n",
       "    </tr>\n",
       "    <tr>\n",
       "      <th>12414</th>\n",
       "      <td>BookRestaurant</td>\n",
       "      <td>Book a restaurant for one person at 7 AM</td>\n",
       "    </tr>\n",
       "    <tr>\n",
       "      <th>11545</th>\n",
       "      <td>AddToPlaylist</td>\n",
       "      <td>Add this artist to my garage jams</td>\n",
       "    </tr>\n",
       "    <tr>\n",
       "      <th>8313</th>\n",
       "      <td>SearchScreeningEvent</td>\n",
       "      <td>Find the schedule for The Tale of Sweeney Todd...</td>\n",
       "    </tr>\n",
       "    <tr>\n",
       "      <th>2999</th>\n",
       "      <td>GetWeather</td>\n",
       "      <td>Is there snowfall nearby AMerican Samoa</td>\n",
       "    </tr>\n",
       "    <tr>\n",
       "      <th>9118</th>\n",
       "      <td>SearchScreeningEvent</td>\n",
       "      <td>Give me a list of films at AMC Theatres</td>\n",
       "    </tr>\n",
       "    <tr>\n",
       "      <th>1231</th>\n",
       "      <td>SearchCreativeWork</td>\n",
       "      <td>Find The American Journal of Economics and Soc...</td>\n",
       "    </tr>\n",
       "    <tr>\n",
       "      <th>1574</th>\n",
       "      <td>SearchCreativeWork</td>\n",
       "      <td>play The Rest of My Life</td>\n",
       "    </tr>\n",
       "    <tr>\n",
       "      <th>4361</th>\n",
       "      <td>PlayMusic</td>\n",
       "      <td>Play the red room sessions from chris cunningham</td>\n",
       "    </tr>\n",
       "    <tr>\n",
       "      <th>8724</th>\n",
       "      <td>SearchScreeningEvent</td>\n",
       "      <td>Where can I find movie schedules</td>\n",
       "    </tr>\n",
       "    <tr>\n",
       "      <th>4697</th>\n",
       "      <td>PlayMusic</td>\n",
       "      <td>Play the good sort of 1992 theme music by Layz...</td>\n",
       "    </tr>\n",
       "    <tr>\n",
       "      <th>5733</th>\n",
       "      <td>PlayMusic</td>\n",
       "      <td>I want to hear a Silvia Night ep from the sixties</td>\n",
       "    </tr>\n",
       "    <tr>\n",
       "      <th>13385</th>\n",
       "      <td>BookRestaurant</td>\n",
       "      <td>I would like to book a donut serving delicates...</td>\n",
       "    </tr>\n",
       "    <tr>\n",
       "      <th>99</th>\n",
       "      <td>SearchCreativeWork</td>\n",
       "      <td>Locate me the novel entitled Isthmus.</td>\n",
       "    </tr>\n",
       "    <tr>\n",
       "      <th>5149</th>\n",
       "      <td>PlayMusic</td>\n",
       "      <td>Play play Lodge by Alkabli on lastfm .</td>\n",
       "    </tr>\n",
       "    <tr>\n",
       "      <th>9006</th>\n",
       "      <td>SearchScreeningEvent</td>\n",
       "      <td>Is Brother at United Paramount Theatres</td>\n",
       "    </tr>\n",
       "    <tr>\n",
       "      <th>8300</th>\n",
       "      <td>SearchScreeningEvent</td>\n",
       "      <td>What's the movie schedule for animated movies ...</td>\n",
       "    </tr>\n",
       "    <tr>\n",
       "      <th>7005</th>\n",
       "      <td>RateBook</td>\n",
       "      <td>Rate this textbook one stars out of 6\\n</td>\n",
       "    </tr>\n",
       "    <tr>\n",
       "      <th>1369</th>\n",
       "      <td>SearchCreativeWork</td>\n",
       "      <td>show creativity of video game Labyrinth</td>\n",
       "    </tr>\n",
       "    <tr>\n",
       "      <th>8236</th>\n",
       "      <td>SearchScreeningEvent</td>\n",
       "      <td>Can i get the movie schedules for Speakeasy Th...</td>\n",
       "    </tr>\n",
       "    <tr>\n",
       "      <th>6048</th>\n",
       "      <td>RateBook</td>\n",
       "      <td>Rate this textbook a zero</td>\n",
       "    </tr>\n",
       "    <tr>\n",
       "      <th>5454</th>\n",
       "      <td>PlayMusic</td>\n",
       "      <td>Play the song Long Live Love</td>\n",
       "    </tr>\n",
       "    <tr>\n",
       "      <th>12614</th>\n",
       "      <td>BookRestaurant</td>\n",
       "      <td>Book a restaurant for eight people in six year...</td>\n",
       "    </tr>\n",
       "    <tr>\n",
       "      <th>5310</th>\n",
       "      <td>PlayMusic</td>\n",
       "      <td>I want to listen to the album going back to th...</td>\n",
       "    </tr>\n",
       "    <tr>\n",
       "      <th>5527</th>\n",
       "      <td>PlayMusic</td>\n",
       "      <td>I want to hear some theme music by Edsel Dope</td>\n",
       "    </tr>\n",
       "    <tr>\n",
       "      <th>6263</th>\n",
       "      <td>RateBook</td>\n",
       "      <td>give 0 to The Sky Village</td>\n",
       "    </tr>\n",
       "    <tr>\n",
       "      <th>5747</th>\n",
       "      <td>PlayMusic</td>\n",
       "      <td>Play a song from 1950</td>\n",
       "    </tr>\n",
       "    <tr>\n",
       "      <th>237</th>\n",
       "      <td>SearchCreativeWork</td>\n",
       "      <td>find Face the Truth, a TV show</td>\n",
       "    </tr>\n",
       "    <tr>\n",
       "      <th>12150</th>\n",
       "      <td>BookRestaurant</td>\n",
       "      <td>I need a table for 4 at a restaurant around 0 AM.</td>\n",
       "    </tr>\n",
       "  </tbody>\n",
       "</table>\n",
       "</div>"
      ],
      "text/plain": [
       "                     intent                                               text\n",
       "12353        BookRestaurant  book any popular puglia serving oyster bar for...\n",
       "10554         AddToPlaylist  Add louis nelson delisle to the pulse of ameri...\n",
       "12414        BookRestaurant           Book a restaurant for one person at 7 AM\n",
       "11545         AddToPlaylist                  Add this artist to my garage jams\n",
       "8313   SearchScreeningEvent  Find the schedule for The Tale of Sweeney Todd...\n",
       "2999             GetWeather            Is there snowfall nearby AMerican Samoa\n",
       "9118   SearchScreeningEvent            Give me a list of films at AMC Theatres\n",
       "1231     SearchCreativeWork  Find The American Journal of Economics and Soc...\n",
       "1574     SearchCreativeWork                           play The Rest of My Life\n",
       "4361              PlayMusic   Play the red room sessions from chris cunningham\n",
       "8724   SearchScreeningEvent                   Where can I find movie schedules\n",
       "4697              PlayMusic  Play the good sort of 1992 theme music by Layz...\n",
       "5733              PlayMusic  I want to hear a Silvia Night ep from the sixties\n",
       "13385        BookRestaurant  I would like to book a donut serving delicates...\n",
       "99       SearchCreativeWork              Locate me the novel entitled Isthmus.\n",
       "5149              PlayMusic             Play play Lodge by Alkabli on lastfm .\n",
       "9006   SearchScreeningEvent            Is Brother at United Paramount Theatres\n",
       "8300   SearchScreeningEvent  What's the movie schedule for animated movies ...\n",
       "7005               RateBook            Rate this textbook one stars out of 6\\n\n",
       "1369     SearchCreativeWork            show creativity of video game Labyrinth\n",
       "8236   SearchScreeningEvent  Can i get the movie schedules for Speakeasy Th...\n",
       "6048               RateBook                          Rate this textbook a zero\n",
       "5454              PlayMusic                       Play the song Long Live Love\n",
       "12614        BookRestaurant  Book a restaurant for eight people in six year...\n",
       "5310              PlayMusic  I want to listen to the album going back to th...\n",
       "5527              PlayMusic      I want to hear some theme music by Edsel Dope\n",
       "6263               RateBook                          give 0 to The Sky Village\n",
       "5747              PlayMusic                              Play a song from 1950\n",
       "237      SearchCreativeWork                     find Face the Truth, a TV show\n",
       "12150        BookRestaurant  I need a table for 4 at a restaurant around 0 AM."
      ]
     },
     "execution_count": 13,
     "metadata": {
      "tags": []
     },
     "output_type": "execute_result"
    }
   ],
   "source": [
    "train_df.head(30)"
   ]
  },
  {
   "cell_type": "markdown",
   "metadata": {
    "id": "PacRh3FI4KV2"
   },
   "source": [
    "Print the first 20 examples in the **test_df**"
   ]
  },
  {
   "cell_type": "code",
   "execution_count": 14,
   "metadata": {
    "colab": {
     "base_uri": "https://localhost:8080/",
     "height": 639
    },
    "id": "9wLCB8nx4KV3",
    "outputId": "ecfc1b87-fee4-4ee9-f203-8b1212a732ba",
    "scrolled": true
   },
   "outputs": [
    {
     "data": {
      "text/html": [
       "<div>\n",
       "<style scoped>\n",
       "    .dataframe tbody tr th:only-of-type {\n",
       "        vertical-align: middle;\n",
       "    }\n",
       "\n",
       "    .dataframe tbody tr th {\n",
       "        vertical-align: top;\n",
       "    }\n",
       "\n",
       "    .dataframe thead th {\n",
       "        text-align: right;\n",
       "    }\n",
       "</style>\n",
       "<table border=\"1\" class=\"dataframe\">\n",
       "  <thead>\n",
       "    <tr style=\"text-align: right;\">\n",
       "      <th></th>\n",
       "      <th>intent</th>\n",
       "      <th>text</th>\n",
       "    </tr>\n",
       "  </thead>\n",
       "  <tbody>\n",
       "    <tr>\n",
       "      <th>27</th>\n",
       "      <td>SearchCreativeWork</td>\n",
       "      <td>Can you search the Daring Youth saga?</td>\n",
       "    </tr>\n",
       "    <tr>\n",
       "      <th>641</th>\n",
       "      <td>BookRestaurant</td>\n",
       "      <td>Book a reservation for a bar with a spa nearby ID</td>\n",
       "    </tr>\n",
       "    <tr>\n",
       "      <th>152</th>\n",
       "      <td>GetWeather</td>\n",
       "      <td>what is the overcast forecast for the current ...</td>\n",
       "    </tr>\n",
       "    <tr>\n",
       "      <th>302</th>\n",
       "      <td>RateBook</td>\n",
       "      <td>rate A Twist in the Tale zero out of 6 points</td>\n",
       "    </tr>\n",
       "    <tr>\n",
       "      <th>541</th>\n",
       "      <td>AddToPlaylist</td>\n",
       "      <td>Add a song to Indie Hipster</td>\n",
       "    </tr>\n",
       "    <tr>\n",
       "      <th>518</th>\n",
       "      <td>AddToPlaylist</td>\n",
       "      <td>Add porter wagoner to the The Sleep Machine Wa...</td>\n",
       "    </tr>\n",
       "    <tr>\n",
       "      <th>351</th>\n",
       "      <td>RateBook</td>\n",
       "      <td>Give zero stars to Rhialto the Marvellous</td>\n",
       "    </tr>\n",
       "    <tr>\n",
       "      <th>191</th>\n",
       "      <td>GetWeather</td>\n",
       "      <td>Tell me the weather forecast here</td>\n",
       "    </tr>\n",
       "    <tr>\n",
       "      <th>171</th>\n",
       "      <td>GetWeather</td>\n",
       "      <td>what is the forecast in North Carolina for Edg...</td>\n",
       "    </tr>\n",
       "    <tr>\n",
       "      <th>173</th>\n",
       "      <td>GetWeather</td>\n",
       "      <td>Need weather for Parc national Tolhuaca to see...</td>\n",
       "    </tr>\n",
       "    <tr>\n",
       "      <th>578</th>\n",
       "      <td>AddToPlaylist</td>\n",
       "      <td>Add jack white to my playlist This Is Shakira</td>\n",
       "    </tr>\n",
       "    <tr>\n",
       "      <th>566</th>\n",
       "      <td>AddToPlaylist</td>\n",
       "      <td>add Muzika za decu to my Crash Course playlist</td>\n",
       "    </tr>\n",
       "    <tr>\n",
       "      <th>524</th>\n",
       "      <td>AddToPlaylist</td>\n",
       "      <td>Put Vandemataram Srinivas's track onto HipHop ...</td>\n",
       "    </tr>\n",
       "    <tr>\n",
       "      <th>531</th>\n",
       "      <td>AddToPlaylist</td>\n",
       "      <td>Add the album to the The Sweet Suite playlist.</td>\n",
       "    </tr>\n",
       "    <tr>\n",
       "      <th>390</th>\n",
       "      <td>RateBook</td>\n",
       "      <td>Give this novel a 1.</td>\n",
       "    </tr>\n",
       "    <tr>\n",
       "      <th>64</th>\n",
       "      <td>SearchCreativeWork</td>\n",
       "      <td>Please get me The Henderson Kids saga.</td>\n",
       "    </tr>\n",
       "    <tr>\n",
       "      <th>440</th>\n",
       "      <td>SearchScreeningEvent</td>\n",
       "      <td>Is American Primitive showing in Santikos Thea...</td>\n",
       "    </tr>\n",
       "    <tr>\n",
       "      <th>240</th>\n",
       "      <td>PlayMusic</td>\n",
       "      <td>Play some sixties songs on Google Music</td>\n",
       "    </tr>\n",
       "    <tr>\n",
       "      <th>143</th>\n",
       "      <td>GetWeather</td>\n",
       "      <td>What's the weather in Benton City?</td>\n",
       "    </tr>\n",
       "    <tr>\n",
       "      <th>52</th>\n",
       "      <td>SearchCreativeWork</td>\n",
       "      <td>Please look up and find me Monty Python Live a...</td>\n",
       "    </tr>\n",
       "  </tbody>\n",
       "</table>\n",
       "</div>"
      ],
      "text/plain": [
       "                   intent                                               text\n",
       "27     SearchCreativeWork              Can you search the Daring Youth saga?\n",
       "641        BookRestaurant  Book a reservation for a bar with a spa nearby ID\n",
       "152            GetWeather  what is the overcast forecast for the current ...\n",
       "302              RateBook      rate A Twist in the Tale zero out of 6 points\n",
       "541         AddToPlaylist                        Add a song to Indie Hipster\n",
       "518         AddToPlaylist  Add porter wagoner to the The Sleep Machine Wa...\n",
       "351              RateBook          Give zero stars to Rhialto the Marvellous\n",
       "191            GetWeather                  Tell me the weather forecast here\n",
       "171            GetWeather  what is the forecast in North Carolina for Edg...\n",
       "173            GetWeather  Need weather for Parc national Tolhuaca to see...\n",
       "578         AddToPlaylist      Add jack white to my playlist This Is Shakira\n",
       "566         AddToPlaylist     add Muzika za decu to my Crash Course playlist\n",
       "524         AddToPlaylist  Put Vandemataram Srinivas's track onto HipHop ...\n",
       "531         AddToPlaylist     Add the album to the The Sweet Suite playlist.\n",
       "390              RateBook                               Give this novel a 1.\n",
       "64     SearchCreativeWork             Please get me The Henderson Kids saga.\n",
       "440  SearchScreeningEvent  Is American Primitive showing in Santikos Thea...\n",
       "240             PlayMusic            Play some sixties songs on Google Music\n",
       "143            GetWeather                 What's the weather in Benton City?\n",
       "52     SearchCreativeWork  Please look up and find me Monty Python Live a..."
      ]
     },
     "execution_count": 14,
     "metadata": {
      "tags": []
     },
     "output_type": "execute_result"
    }
   ],
   "source": [
    "test_df.head(20)"
   ]
  },
  {
   "cell_type": "markdown",
   "metadata": {
    "id": "LwL2hj5B4KV3"
   },
   "source": [
    "### Preprocess the data\n",
    "Lower case the texts and remove punctuations from the texts.\n"
   ]
  },
  {
   "cell_type": "code",
   "execution_count": 15,
   "metadata": {
    "id": "FUZvqLTo4KV3"
   },
   "outputs": [],
   "source": [
    "import string\n",
    "\n",
    "translator = str.maketrans('', '', string.punctuation)\n",
    "\n",
    "def pre_process(text):\n",
    "    \"\"\"\n",
    "        :param text: A user input text\n",
    "        :return: The preprocessed text\n",
    "    \"\"\"\n",
    "    # YOUR CODE HERE\n",
    "    text = text.translate(translator)\n",
    "    text = text.strip().lower()\n",
    "    return text\n",
    "    \n",
    "\n",
    "train_df[\"text\"] = train_df[\"text\"].apply(pre_process)\n",
    "test_df[\"text\"] = test_df[\"text\"].apply(pre_process)"
   ]
  },
  {
   "cell_type": "markdown",
   "metadata": {
    "id": "-BHwkgjj4KV3"
   },
   "source": [
    "Let's have a quick look at texts again."
   ]
  },
  {
   "cell_type": "code",
   "execution_count": 16,
   "metadata": {
    "colab": {
     "base_uri": "https://localhost:8080/",
     "height": 195
    },
    "id": "4WSXVH9q4KV4",
    "outputId": "96a170e6-0102-456c-f071-c12505303d36"
   },
   "outputs": [
    {
     "data": {
      "text/html": [
       "<div>\n",
       "<style scoped>\n",
       "    .dataframe tbody tr th:only-of-type {\n",
       "        vertical-align: middle;\n",
       "    }\n",
       "\n",
       "    .dataframe tbody tr th {\n",
       "        vertical-align: top;\n",
       "    }\n",
       "\n",
       "    .dataframe thead th {\n",
       "        text-align: right;\n",
       "    }\n",
       "</style>\n",
       "<table border=\"1\" class=\"dataframe\">\n",
       "  <thead>\n",
       "    <tr style=\"text-align: right;\">\n",
       "      <th></th>\n",
       "      <th>intent</th>\n",
       "      <th>text</th>\n",
       "    </tr>\n",
       "  </thead>\n",
       "  <tbody>\n",
       "    <tr>\n",
       "      <th>12353</th>\n",
       "      <td>BookRestaurant</td>\n",
       "      <td>book any popular puglia serving oyster bar for...</td>\n",
       "    </tr>\n",
       "    <tr>\n",
       "      <th>10554</th>\n",
       "      <td>AddToPlaylist</td>\n",
       "      <td>add louis nelson delisle to the pulse of ameri...</td>\n",
       "    </tr>\n",
       "    <tr>\n",
       "      <th>12414</th>\n",
       "      <td>BookRestaurant</td>\n",
       "      <td>book a restaurant for one person at 7 am</td>\n",
       "    </tr>\n",
       "    <tr>\n",
       "      <th>11545</th>\n",
       "      <td>AddToPlaylist</td>\n",
       "      <td>add this artist to my garage jams</td>\n",
       "    </tr>\n",
       "    <tr>\n",
       "      <th>8313</th>\n",
       "      <td>SearchScreeningEvent</td>\n",
       "      <td>find the schedule for the tale of sweeney todd...</td>\n",
       "    </tr>\n",
       "  </tbody>\n",
       "</table>\n",
       "</div>"
      ],
      "text/plain": [
       "                     intent                                               text\n",
       "12353        BookRestaurant  book any popular puglia serving oyster bar for...\n",
       "10554         AddToPlaylist  add louis nelson delisle to the pulse of ameri...\n",
       "12414        BookRestaurant           book a restaurant for one person at 7 am\n",
       "11545         AddToPlaylist                  add this artist to my garage jams\n",
       "8313   SearchScreeningEvent  find the schedule for the tale of sweeney todd..."
      ]
     },
     "execution_count": 16,
     "metadata": {
      "tags": []
     },
     "output_type": "execute_result"
    }
   ],
   "source": [
    "train_df.head()"
   ]
  },
  {
   "cell_type": "code",
   "execution_count": 17,
   "metadata": {
    "colab": {
     "base_uri": "https://localhost:8080/",
     "height": 195
    },
    "id": "sQ0iywxO4KV4",
    "outputId": "ae7eda10-b878-4606-83a9-5339e9145b61",
    "scrolled": true
   },
   "outputs": [
    {
     "data": {
      "text/html": [
       "<div>\n",
       "<style scoped>\n",
       "    .dataframe tbody tr th:only-of-type {\n",
       "        vertical-align: middle;\n",
       "    }\n",
       "\n",
       "    .dataframe tbody tr th {\n",
       "        vertical-align: top;\n",
       "    }\n",
       "\n",
       "    .dataframe thead th {\n",
       "        text-align: right;\n",
       "    }\n",
       "</style>\n",
       "<table border=\"1\" class=\"dataframe\">\n",
       "  <thead>\n",
       "    <tr style=\"text-align: right;\">\n",
       "      <th></th>\n",
       "      <th>intent</th>\n",
       "      <th>text</th>\n",
       "    </tr>\n",
       "  </thead>\n",
       "  <tbody>\n",
       "    <tr>\n",
       "      <th>27</th>\n",
       "      <td>SearchCreativeWork</td>\n",
       "      <td>can you search the daring youth saga</td>\n",
       "    </tr>\n",
       "    <tr>\n",
       "      <th>641</th>\n",
       "      <td>BookRestaurant</td>\n",
       "      <td>book a reservation for a bar with a spa nearby id</td>\n",
       "    </tr>\n",
       "    <tr>\n",
       "      <th>152</th>\n",
       "      <td>GetWeather</td>\n",
       "      <td>what is the overcast forecast for the current ...</td>\n",
       "    </tr>\n",
       "    <tr>\n",
       "      <th>302</th>\n",
       "      <td>RateBook</td>\n",
       "      <td>rate a twist in the tale zero out of 6 points</td>\n",
       "    </tr>\n",
       "    <tr>\n",
       "      <th>541</th>\n",
       "      <td>AddToPlaylist</td>\n",
       "      <td>add a song to indie hipster</td>\n",
       "    </tr>\n",
       "  </tbody>\n",
       "</table>\n",
       "</div>"
      ],
      "text/plain": [
       "                 intent                                               text\n",
       "27   SearchCreativeWork               can you search the daring youth saga\n",
       "641      BookRestaurant  book a reservation for a bar with a spa nearby id\n",
       "152          GetWeather  what is the overcast forecast for the current ...\n",
       "302            RateBook      rate a twist in the tale zero out of 6 points\n",
       "541       AddToPlaylist                        add a song to indie hipster"
      ]
     },
     "execution_count": 17,
     "metadata": {
      "tags": []
     },
     "output_type": "execute_result"
    }
   ],
   "source": [
    "test_df.head()"
   ]
  },
  {
   "cell_type": "markdown",
   "metadata": {
    "id": "YLogQ9lb4KV4"
   },
   "source": [
    "## Choosing the model\n",
    "There is no right way to choose the perfect model for a machine learning problem. I have to try them out to see what is the best fit for this problem. Because this is a text classification problem, so let's use our experience with text classification problems. First, I will try out a simple **Logistic Regression** model with **tfidf** as a baseline and then use **cross-validation** to see if I can improve the model. After that, I will try **Feed Forward Neural Network** with **word embedding** to see what happens. **Word embedding** is a way to represent texts as vectors for training with **Neural Network** more easily."
   ]
  },
  {
   "cell_type": "markdown",
   "metadata": {
    "id": "25WBlLMz4KV4"
   },
   "source": [
    "## Logistic Regression with tfidf\n"
   ]
  },
  {
   "cell_type": "markdown",
   "metadata": {
    "id": "PB03vn7e4KV5"
   },
   "source": [
    "### Import libs that you need here"
   ]
  },
  {
   "cell_type": "code",
   "execution_count": 1,
   "metadata": {
    "id": "W0TsR6_-4KV5",
    "scrolled": true
   },
   "outputs": [],
   "source": [
    "from sklearn.feature_extraction.text import TfidfVectorizer\n",
    "from sklearn.linear_model import LogisticRegression"
   ]
  },
  {
   "cell_type": "markdown",
   "metadata": {
    "id": "4SSAsvxT4KV5"
   },
   "source": [
    "### Train tfidf vectorizer and transform texts to vectors\n"
   ]
  },
  {
   "cell_type": "code",
   "execution_count": 19,
   "metadata": {
    "id": "bOa_rrcX4KV5"
   },
   "outputs": [],
   "source": [
    "# Create the vectorizer\n",
    "tfidf = TfidfVectorizer(ngram_range=(1, 2))\n",
    "\n",
    "# fit and transform the train data\n",
    "tfidf_train = tfidf.fit_transform(train_df['text'])\n",
    "# transform the test data\n",
    "tfidf_test = tfidf.transform(test_df['text'])"
   ]
  },
  {
   "cell_type": "code",
   "execution_count": 20,
   "metadata": {
    "colab": {
     "base_uri": "https://localhost:8080/"
    },
    "id": "n2VCFarLPWLH",
    "outputId": "e10e34b6-448a-4b14-9363-785de25736b7"
   },
   "outputs": [
    {
     "data": {
      "text/plain": [
       "<13784x48769 sparse matrix of type '<class 'numpy.float64'>'\n",
       "\twith 210340 stored elements in Compressed Sparse Row format>"
      ]
     },
     "execution_count": 20,
     "metadata": {
      "tags": []
     },
     "output_type": "execute_result"
    }
   ],
   "source": [
    "tfidf_train"
   ]
  },
  {
   "cell_type": "markdown",
   "metadata": {
    "id": "QN_Bl3LS4KV5"
   },
   "source": [
    "### Create and train the model\n"
   ]
  },
  {
   "cell_type": "code",
   "execution_count": 21,
   "metadata": {
    "colab": {
     "base_uri": "https://localhost:8080/"
    },
    "id": "2wIp1rSy4KV6",
    "outputId": "f7f3fb30-55ab-48be-c4bb-3bf3d4590368",
    "scrolled": true
   },
   "outputs": [
    {
     "name": "stderr",
     "output_type": "stream",
     "text": [
      "/usr/local/lib/python3.6/dist-packages/sklearn/linear_model/_logistic.py:940: ConvergenceWarning: lbfgs failed to converge (status=1):\n",
      "STOP: TOTAL NO. of ITERATIONS REACHED LIMIT.\n",
      "\n",
      "Increase the number of iterations (max_iter) or scale the data as shown in:\n",
      "    https://scikit-learn.org/stable/modules/preprocessing.html\n",
      "Please also refer to the documentation for alternative solver options:\n",
      "    https://scikit-learn.org/stable/modules/linear_model.html#logistic-regression\n",
      "  extra_warning_msg=_LOGISTIC_SOLVER_CONVERGENCE_MSG)\n"
     ]
    }
   ],
   "source": [
    "# Create and train the model here\n",
    "logistic = LogisticRegression(multi_class=\"multinomial\", solver = \"lbfgs\", max_iter=100 )\n",
    "logis_model = logistic.fit(tfidf_train, train_df['intent'])"
   ]
  },
  {
   "cell_type": "markdown",
   "metadata": {
    "id": "ITIH0UsS4KV6"
   },
   "source": [
    "### Evaluate the model\n"
   ]
  },
  {
   "cell_type": "code",
   "execution_count": 22,
   "metadata": {
    "colab": {
     "base_uri": "https://localhost:8080/"
    },
    "id": "3sODY7qd4KV6",
    "outputId": "79c7a7b7-41c4-4125-ed6d-992abd9566f6"
   },
   "outputs": [
    {
     "name": "stdout",
     "output_type": "stream",
     "text": [
      "Classificaton report for test data\n",
      "\n",
      "                      precision    recall  f1-score   support\n",
      "\n",
      "       AddToPlaylist       1.00      1.00      1.00      1942\n",
      "      BookRestaurant       0.99      1.00      1.00      1973\n",
      "          GetWeather       1.00      0.99      1.00      2000\n",
      "           PlayMusic       0.98      1.00      0.99      2000\n",
      "            RateBook       1.00      1.00      1.00      1956\n",
      "  SearchCreativeWork       0.98      0.98      0.98      1954\n",
      "SearchScreeningEvent       1.00      0.98      0.99      1959\n",
      "\n",
      "            accuracy                           0.99     13784\n",
      "           macro avg       0.99      0.99      0.99     13784\n",
      "        weighted avg       0.99      0.99      0.99     13784\n",
      "\n"
     ]
    }
   ],
   "source": [
    "# Evaluate the model\n",
    "from sklearn.metrics import classification_report\n",
    "X_train = tfidf_train\n",
    "X_test = tfidf_test\n",
    "y_true_train = train_df['intent']\n",
    "y_true_test = test_df['intent']\n",
    "y_pred_train_logis = logis_model.predict(X_train)\n",
    "\n",
    "print('Classificaton report for test data')\n",
    "print('')\n",
    "print(classification_report(y_true_train, y_pred_train_logis))"
   ]
  },
  {
   "cell_type": "code",
   "execution_count": 23,
   "metadata": {
    "colab": {
     "base_uri": "https://localhost:8080/"
    },
    "id": "pmMFBHW4TMwv",
    "outputId": "d93345e5-6ea6-4c6e-a7f4-8a6b3d2943d9"
   },
   "outputs": [
    {
     "name": "stdout",
     "output_type": "stream",
     "text": [
      "Classificaton report for training data\n",
      "\n",
      "                      precision    recall  f1-score   support\n",
      "\n",
      "       AddToPlaylist       0.98      1.00      0.99       100\n",
      "      BookRestaurant       0.98      1.00      0.99       100\n",
      "          GetWeather       0.99      0.96      0.97       100\n",
      "           PlayMusic       1.00      0.97      0.98       100\n",
      "            RateBook       1.00      1.00      1.00       100\n",
      "  SearchCreativeWork       0.93      0.99      0.96       100\n",
      "SearchScreeningEvent       0.97      0.93      0.95       100\n",
      "\n",
      "            accuracy                           0.98       700\n",
      "           macro avg       0.98      0.98      0.98       700\n",
      "        weighted avg       0.98      0.98      0.98       700\n",
      "\n"
     ]
    }
   ],
   "source": [
    "y_pred_test_logis = logis_model.predict(X_test)\r\n",
    "print('Classificaton report for training data')\r\n",
    "print('')\r\n",
    "print(classification_report(y_true_test, y_pred_test_logis))"
   ]
  },
  {
   "cell_type": "markdown",
   "metadata": {
    "id": "zRrLDIs_4KV6"
   },
   "source": [
    "The f1 score is about **0.98**. It is really high though :))."
   ]
  },
  {
   "cell_type": "markdown",
   "metadata": {
    "id": "ilyA0QX_4KV6"
   },
   "source": [
    "## Cross-validation with Logistic Regression\n",
    "Let's tune some parameters using cross-validation."
   ]
  },
  {
   "cell_type": "markdown",
   "metadata": {
    "id": "xZbhbtvg4KV6"
   },
   "source": [
    "### Create and train the model\n"
   ]
  },
  {
   "cell_type": "code",
   "execution_count": 24,
   "metadata": {
    "colab": {
     "base_uri": "https://localhost:8080/"
    },
    "collapsed": true,
    "id": "P0yS_vRy4KV7",
    "jupyter": {
     "outputs_hidden": true
    },
    "outputId": "345f1adb-7ecb-4483-a561-e17150670582",
    "tags": []
   },
   "outputs": [
    {
     "name": "stderr",
     "output_type": "stream",
     "text": [
      "/usr/local/lib/python3.6/dist-packages/sklearn/linear_model/_logistic.py:940: ConvergenceWarning: lbfgs failed to converge (status=1):\n",
      "STOP: TOTAL NO. of ITERATIONS REACHED LIMIT.\n",
      "\n",
      "Increase the number of iterations (max_iter) or scale the data as shown in:\n",
      "    https://scikit-learn.org/stable/modules/preprocessing.html\n",
      "Please also refer to the documentation for alternative solver options:\n",
      "    https://scikit-learn.org/stable/modules/linear_model.html#logistic-regression\n",
      "  extra_warning_msg=_LOGISTIC_SOLVER_CONVERGENCE_MSG)\n",
      "/usr/local/lib/python3.6/dist-packages/sklearn/linear_model/_logistic.py:940: ConvergenceWarning: lbfgs failed to converge (status=1):\n",
      "STOP: TOTAL NO. of ITERATIONS REACHED LIMIT.\n",
      "\n",
      "Increase the number of iterations (max_iter) or scale the data as shown in:\n",
      "    https://scikit-learn.org/stable/modules/preprocessing.html\n",
      "Please also refer to the documentation for alternative solver options:\n",
      "    https://scikit-learn.org/stable/modules/linear_model.html#logistic-regression\n",
      "  extra_warning_msg=_LOGISTIC_SOLVER_CONVERGENCE_MSG)\n",
      "/usr/local/lib/python3.6/dist-packages/sklearn/linear_model/_logistic.py:940: ConvergenceWarning: lbfgs failed to converge (status=1):\n",
      "STOP: TOTAL NO. of ITERATIONS REACHED LIMIT.\n",
      "\n",
      "Increase the number of iterations (max_iter) or scale the data as shown in:\n",
      "    https://scikit-learn.org/stable/modules/preprocessing.html\n",
      "Please also refer to the documentation for alternative solver options:\n",
      "    https://scikit-learn.org/stable/modules/linear_model.html#logistic-regression\n",
      "  extra_warning_msg=_LOGISTIC_SOLVER_CONVERGENCE_MSG)\n",
      "/usr/local/lib/python3.6/dist-packages/sklearn/linear_model/_logistic.py:940: ConvergenceWarning: lbfgs failed to converge (status=1):\n",
      "STOP: TOTAL NO. of ITERATIONS REACHED LIMIT.\n",
      "\n",
      "Increase the number of iterations (max_iter) or scale the data as shown in:\n",
      "    https://scikit-learn.org/stable/modules/preprocessing.html\n",
      "Please also refer to the documentation for alternative solver options:\n",
      "    https://scikit-learn.org/stable/modules/linear_model.html#logistic-regression\n",
      "  extra_warning_msg=_LOGISTIC_SOLVER_CONVERGENCE_MSG)\n",
      "/usr/local/lib/python3.6/dist-packages/sklearn/linear_model/_logistic.py:940: ConvergenceWarning: lbfgs failed to converge (status=1):\n",
      "STOP: TOTAL NO. of ITERATIONS REACHED LIMIT.\n",
      "\n",
      "Increase the number of iterations (max_iter) or scale the data as shown in:\n",
      "    https://scikit-learn.org/stable/modules/preprocessing.html\n",
      "Please also refer to the documentation for alternative solver options:\n",
      "    https://scikit-learn.org/stable/modules/linear_model.html#logistic-regression\n",
      "  extra_warning_msg=_LOGISTIC_SOLVER_CONVERGENCE_MSG)\n"
     ]
    },
    {
     "data": {
      "text/plain": [
       "GridSearchCV(cv=None, error_score=nan,\n",
       "             estimator=LogisticRegression(C=1.0, class_weight=None, dual=False,\n",
       "                                          fit_intercept=True,\n",
       "                                          intercept_scaling=1, l1_ratio=None,\n",
       "                                          max_iter=100,\n",
       "                                          multi_class='multinomial',\n",
       "                                          n_jobs=None, penalty='l2',\n",
       "                                          random_state=None, solver='lbfgs',\n",
       "                                          tol=0.0001, verbose=0,\n",
       "                                          warm_start=False),\n",
       "             iid='deprecated', n_jobs=None,\n",
       "             param_grid={'C': [0.1, 1, 10],\n",
       "                         'solver': ('newton-cg', 'lbfgs', 'sag')},\n",
       "             pre_dispatch='2*n_jobs', refit=True, return_train_score=False,\n",
       "             scoring=None, verbose=0)"
      ]
     },
     "execution_count": 24,
     "metadata": {
      "tags": []
     },
     "output_type": "execute_result"
    }
   ],
   "source": [
    "from sklearn.model_selection import GridSearchCV\n",
    "# Create the model\n",
    "logistic_2 = LogisticRegression(multi_class=\"multinomial\", max_iter=100 )\n",
    "# Create tuning parameters\n",
    "parameters = {'solver':('newton-cg', 'lbfgs','sag'), 'C':[0.1,1, 10]}\n",
    "# Create GridSearchCV\n",
    "grid_search = GridSearchCV(logistic_2, parameters)\n",
    "# Train the model\n",
    "grid_search.fit(X_train, y_true_train)"
   ]
  },
  {
   "cell_type": "markdown",
   "metadata": {
    "id": "Hu1dYJH64KV7"
   },
   "source": [
    "### Evaluate the model"
   ]
  },
  {
   "cell_type": "code",
   "execution_count": 25,
   "metadata": {
    "colab": {
     "base_uri": "https://localhost:8080/"
    },
    "id": "Hj2Evzfy4KV7",
    "outputId": "ce3f6041-d035-4e63-a6ab-b837230dbe49"
   },
   "outputs": [
    {
     "data": {
      "text/plain": [
       "{'C': 10, 'solver': 'newton-cg'}"
      ]
     },
     "execution_count": 25,
     "metadata": {
      "tags": []
     },
     "output_type": "execute_result"
    }
   ],
   "source": [
    "# Evaluate the model\n",
    "grid_search.best_params_"
   ]
  },
  {
   "cell_type": "code",
   "execution_count": 26,
   "metadata": {
    "colab": {
     "base_uri": "https://localhost:8080/"
    },
    "id": "HRL5jvqCZfee",
    "outputId": "df80d2ac-f8c2-479d-b437-d25b10dbfd89"
   },
   "outputs": [
    {
     "name": "stdout",
     "output_type": "stream",
     "text": [
      "Classificaton report for test data with GridSearchCV\n",
      "\n",
      "                      precision    recall  f1-score   support\n",
      "\n",
      "       AddToPlaylist       0.98      1.00      0.99       100\n",
      "      BookRestaurant       0.99      1.00      1.00       100\n",
      "          GetWeather       0.99      0.97      0.98       100\n",
      "           PlayMusic       1.00      0.97      0.98       100\n",
      "            RateBook       1.00      1.00      1.00       100\n",
      "  SearchCreativeWork       0.93      1.00      0.97       100\n",
      "SearchScreeningEvent       0.98      0.93      0.95       100\n",
      "\n",
      "            accuracy                           0.98       700\n",
      "           macro avg       0.98      0.98      0.98       700\n",
      "        weighted avg       0.98      0.98      0.98       700\n",
      "\n"
     ]
    }
   ],
   "source": [
    "y_pred_test_logis2 = grid_search.predict(X_test)\r\n",
    "print('Classificaton report for test data with GridSearchCV')\r\n",
    "print('')\r\n",
    "print(classification_report(y_true_test, y_pred_test_logis2))"
   ]
  },
  {
   "cell_type": "markdown",
   "metadata": {
    "id": "YighPWa64KV7"
   },
   "source": [
    "The f1 score is about **0.98**. My baseline Logistic Regression is pretty good though so, with that, we can say that our dataset is well separated."
   ]
  },
  {
   "cell_type": "markdown",
   "metadata": {
    "id": "ci4zrrDi4KV7"
   },
   "source": [
    "## Word embedding and Neural Network\n",
    "In this section I will use **word embedding** to represent user input texts as vectors then I will use **Neural Network** to train the classification model. **Word embeddings** are vector representations of a particular word. But, why do we need them and can we just use **tfidf** to represent texts as vectors? Well, one disadvantage of **tfidf** or **bag of word** is that the feature dimension could be really large and sparse (sparse in the context of vector mean vectors with a lot of zero values). For this problem, the feature dimension size is **48769** (for ngram_range=(1,2)), meanwhile, we only have **13784** examples and the dimension size increases when the vocabulary size increases. That is very inefficient when training with **Neural Network** in terms of computation. When using **word embedding**, the vector size is fixed no matter the vocabulary size. Another advantage of **word embedding** is that it is capable of capturing the context of a word in a document, semantic and syntactic similarity, relation with other words. I will use a pre-trained **word embedding** model to represent our words as vectors and then use those vectors to feed into **Neural Network** model."
   ]
  },
  {
   "cell_type": "markdown",
   "metadata": {
    "id": "hvZpv7Np4KV7"
   },
   "source": [
    "### Using spaCy for word embedding\n",
    "I will use spaCy (https://spacy.io/) which is a python library for solving **Natural Language Process (NLP)** tasks more easily. The **en_core_web_lg** model from spaCy (https://spacy.io/models/en#en_core_web_lg) contains many English models for different tasks. It includes a pre-trained **Glove** word embedding model which has 685k keys, 685k unique vectors (300 dimensions)."
   ]
  },
  {
   "cell_type": "code",
   "execution_count": 25,
   "metadata": {
    "colab": {
     "base_uri": "https://localhost:8080/"
    },
    "id": "YKQBJ-nc4KV7",
    "outputId": "bad020a5-96a5-4929-fae5-c7114373664b"
   },
   "outputs": [
    {
     "name": "stdout",
     "output_type": "stream",
     "text": [
      "Collecting en_core_web_lg==2.2.5\n",
      "\u001b[?25l  Downloading https://github.com/explosion/spacy-models/releases/download/en_core_web_lg-2.2.5/en_core_web_lg-2.2.5.tar.gz (827.9MB)\n",
      "\u001b[K     |████████████████████████████████| 827.9MB 1.2MB/s \n",
      "\u001b[?25hRequirement already satisfied: spacy>=2.2.2 in /usr/local/lib/python3.6/dist-packages (from en_core_web_lg==2.2.5) (2.2.4)\n",
      "Requirement already satisfied: cymem<2.1.0,>=2.0.2 in /usr/local/lib/python3.6/dist-packages (from spacy>=2.2.2->en_core_web_lg==2.2.5) (2.0.5)\n",
      "Requirement already satisfied: thinc==7.4.0 in /usr/local/lib/python3.6/dist-packages (from spacy>=2.2.2->en_core_web_lg==2.2.5) (7.4.0)\n",
      "Requirement already satisfied: blis<0.5.0,>=0.4.0 in /usr/local/lib/python3.6/dist-packages (from spacy>=2.2.2->en_core_web_lg==2.2.5) (0.4.1)\n",
      "Requirement already satisfied: srsly<1.1.0,>=1.0.2 in /usr/local/lib/python3.6/dist-packages (from spacy>=2.2.2->en_core_web_lg==2.2.5) (1.0.5)\n",
      "Requirement already satisfied: plac<1.2.0,>=0.9.6 in /usr/local/lib/python3.6/dist-packages (from spacy>=2.2.2->en_core_web_lg==2.2.5) (1.1.3)\n",
      "Requirement already satisfied: murmurhash<1.1.0,>=0.28.0 in /usr/local/lib/python3.6/dist-packages (from spacy>=2.2.2->en_core_web_lg==2.2.5) (1.0.5)\n",
      "Requirement already satisfied: tqdm<5.0.0,>=4.38.0 in /usr/local/lib/python3.6/dist-packages (from spacy>=2.2.2->en_core_web_lg==2.2.5) (4.41.1)\n",
      "Requirement already satisfied: numpy>=1.15.0 in /usr/local/lib/python3.6/dist-packages (from spacy>=2.2.2->en_core_web_lg==2.2.5) (1.19.5)\n",
      "Requirement already satisfied: wasabi<1.1.0,>=0.4.0 in /usr/local/lib/python3.6/dist-packages (from spacy>=2.2.2->en_core_web_lg==2.2.5) (0.8.2)\n",
      "Requirement already satisfied: setuptools in /usr/local/lib/python3.6/dist-packages (from spacy>=2.2.2->en_core_web_lg==2.2.5) (53.0.0)\n",
      "Requirement already satisfied: preshed<3.1.0,>=3.0.2 in /usr/local/lib/python3.6/dist-packages (from spacy>=2.2.2->en_core_web_lg==2.2.5) (3.0.5)\n",
      "Requirement already satisfied: requests<3.0.0,>=2.13.0 in /usr/local/lib/python3.6/dist-packages (from spacy>=2.2.2->en_core_web_lg==2.2.5) (2.23.0)\n",
      "Requirement already satisfied: catalogue<1.1.0,>=0.0.7 in /usr/local/lib/python3.6/dist-packages (from spacy>=2.2.2->en_core_web_lg==2.2.5) (1.0.0)\n",
      "Requirement already satisfied: urllib3!=1.25.0,!=1.25.1,<1.26,>=1.21.1 in /usr/local/lib/python3.6/dist-packages (from requests<3.0.0,>=2.13.0->spacy>=2.2.2->en_core_web_lg==2.2.5) (1.24.3)\n",
      "Requirement already satisfied: chardet<4,>=3.0.2 in /usr/local/lib/python3.6/dist-packages (from requests<3.0.0,>=2.13.0->spacy>=2.2.2->en_core_web_lg==2.2.5) (3.0.4)\n",
      "Requirement already satisfied: certifi>=2017.4.17 in /usr/local/lib/python3.6/dist-packages (from requests<3.0.0,>=2.13.0->spacy>=2.2.2->en_core_web_lg==2.2.5) (2020.12.5)\n",
      "Requirement already satisfied: idna<3,>=2.5 in /usr/local/lib/python3.6/dist-packages (from requests<3.0.0,>=2.13.0->spacy>=2.2.2->en_core_web_lg==2.2.5) (2.10)\n",
      "Requirement already satisfied: importlib-metadata>=0.20; python_version < \"3.8\" in /usr/local/lib/python3.6/dist-packages (from catalogue<1.1.0,>=0.0.7->spacy>=2.2.2->en_core_web_lg==2.2.5) (3.4.0)\n",
      "Requirement already satisfied: typing-extensions>=3.6.4; python_version < \"3.8\" in /usr/local/lib/python3.6/dist-packages (from importlib-metadata>=0.20; python_version < \"3.8\"->catalogue<1.1.0,>=0.0.7->spacy>=2.2.2->en_core_web_lg==2.2.5) (3.7.4.3)\n",
      "Requirement already satisfied: zipp>=0.5 in /usr/local/lib/python3.6/dist-packages (from importlib-metadata>=0.20; python_version < \"3.8\"->catalogue<1.1.0,>=0.0.7->spacy>=2.2.2->en_core_web_lg==2.2.5) (3.4.0)\n",
      "Building wheels for collected packages: en-core-web-lg\n",
      "  Building wheel for en-core-web-lg (setup.py) ... \u001b[?25l\u001b[?25hdone\n",
      "  Created wheel for en-core-web-lg: filename=en_core_web_lg-2.2.5-cp36-none-any.whl size=829180945 sha256=9387ddbe0d072053506c156e2bdfc465a115a211160177515893304086bdd4a9\n",
      "  Stored in directory: /tmp/pip-ephem-wheel-cache-_6gnm4gz/wheels/2a/c1/a6/fc7a877b1efca9bc6a089d6f506f16d3868408f9ff89f8dbfc\n",
      "Successfully built en-core-web-lg\n",
      "Installing collected packages: en-core-web-lg\n",
      "Successfully installed en-core-web-lg-2.2.5\n",
      "\u001b[38;5;2m✔ Download and installation successful\u001b[0m\n",
      "You can now load the model via spacy.load('en_core_web_lg')\n"
     ]
    }
   ],
   "source": [
    "# # On Windows, remember to run Anaconda prompt with Administrator to make sure this command works probably\n",
    "# !python -m spacy download en_core_web_lg"
   ]
  },
  {
   "cell_type": "markdown",
   "metadata": {
    "id": "O3t4UTrL4KV8"
   },
   "source": [
    "### Import spaCy model\n",
    "Run the cell below to load the **en_core_web_lg** model from spaCy"
   ]
  },
  {
   "cell_type": "markdown",
   "metadata": {
    "id": "KfPmixBt4KV8"
   },
   "source": [
    "**NOTE:** Having trouble loading the **en_core_web_lg** model on Google colab? Please check this question [Unable to load the spacy model 'en_core_web_lg' on Google colab](https://stackoverflow.com/questions/56927602/unable-to-load-the-spacy-model-en-core-web-lg-on-google-colab) on stackoverflow."
   ]
  },
  {
   "cell_type": "code",
   "execution_count": 1,
   "metadata": {
    "id": "QF1mHzLF4KV8"
   },
   "outputs": [],
   "source": [
    "import spacy\n",
    "\n",
    "nlp = spacy.load(\"en_core_web_lg\")"
   ]
  },
  {
   "cell_type": "markdown",
   "metadata": {
    "id": "hDljvsKB4KV8"
   },
   "source": [
    "### Word embedding examples\n",
    "The example below shows how to get the embedding vector for the word **cat**."
   ]
  },
  {
   "cell_type": "code",
   "execution_count": 2,
   "metadata": {
    "colab": {
     "base_uri": "https://localhost:8080/"
    },
    "id": "h4WjaVNr4KV8",
    "outputId": "77e3c0cb-0bd6-47f1-9bd6-3542e8d6dfaa",
    "scrolled": true
   },
   "outputs": [
    {
     "data": {
      "text/plain": [
       "array([-0.15067  , -0.024468 , -0.23368  , -0.23378  , -0.18382  ,\n",
       "        0.32711  , -0.22084  , -0.28777  ,  0.12759  ,  1.1656   ,\n",
       "       -0.64163  , -0.098455 , -0.62397  ,  0.010431 , -0.25653  ,\n",
       "        0.31799  ,  0.037779 ,  1.1904   , -0.17714  , -0.2595   ,\n",
       "       -0.31461  ,  0.038825 , -0.15713  , -0.13484  ,  0.36936  ,\n",
       "       -0.30562  , -0.40619  , -0.38965  ,  0.3686   ,  0.013963 ,\n",
       "       -0.6895   ,  0.004066 , -0.1367   ,  0.32564  ,  0.24688  ,\n",
       "       -0.14011  ,  0.53889  , -0.80441  , -0.1777   , -0.12922  ,\n",
       "        0.16303  ,  0.14917  , -0.068429 , -0.33922  ,  0.18495  ,\n",
       "       -0.082544 , -0.46892  ,  0.39581  , -0.13742  , -0.35132  ,\n",
       "        0.22223  , -0.144    , -0.048287 ,  0.3379   , -0.31916  ,\n",
       "        0.20526  ,  0.098624 , -0.23877  ,  0.045338 ,  0.43941  ,\n",
       "        0.030385 , -0.013821 , -0.093273 , -0.18178  ,  0.19438  ,\n",
       "       -0.3782   ,  0.70144  ,  0.16236  ,  0.0059111,  0.024898 ,\n",
       "       -0.13613  , -0.11425  , -0.31598  , -0.14209  ,  0.028194 ,\n",
       "        0.5419   , -0.42413  , -0.599    ,  0.24976  , -0.27003  ,\n",
       "        0.14964  ,  0.29287  , -0.31281  ,  0.16543  , -0.21045  ,\n",
       "       -0.4408   ,  1.2174   ,  0.51236  ,  0.56209  ,  0.14131  ,\n",
       "        0.092514 ,  0.71396  , -0.021051 , -0.33704  , -0.20275  ,\n",
       "       -0.36181  ,  0.22055  , -0.25665  ,  0.28425  , -0.16968  ,\n",
       "        0.058029 ,  0.61182  ,  0.31576  , -0.079185 ,  0.35538  ,\n",
       "       -0.51236  ,  0.4235   , -0.30033  , -0.22376  ,  0.15223  ,\n",
       "       -0.048292 ,  0.23532  ,  0.46507  , -0.67579  , -0.32905  ,\n",
       "        0.08446  , -0.22123  , -0.045333 ,  0.34463  , -0.1455   ,\n",
       "       -0.18047  , -0.17887  ,  0.96879  , -1.0028   , -0.47343  ,\n",
       "        0.28542  ,  0.56382  , -0.33211  , -0.38275  , -0.2749   ,\n",
       "       -0.22955  , -0.24265  , -0.37689  ,  0.24822  ,  0.36941  ,\n",
       "        0.14651  , -0.37864  ,  0.31134  , -0.28449  ,  0.36948  ,\n",
       "       -2.8174   , -0.38319  , -0.022373 ,  0.56376  ,  0.40131  ,\n",
       "       -0.42131  , -0.11311  , -0.17317  ,  0.1411   , -0.13194  ,\n",
       "        0.18494  ,  0.097692 , -0.097341 , -0.23987  ,  0.16631  ,\n",
       "       -0.28556  ,  0.0038654,  0.53292  , -0.32367  , -0.38744  ,\n",
       "        0.27011  , -0.34181  , -0.27702  , -0.67279  , -0.10771  ,\n",
       "       -0.062189 , -0.24783  , -0.070884 , -0.20898  ,  0.062404 ,\n",
       "        0.022372 ,  0.13408  ,  0.1305   , -0.19546  , -0.46849  ,\n",
       "        0.77731  , -0.043978 ,  0.3827   , -0.23376  ,  1.0457   ,\n",
       "       -0.14371  , -0.3565   , -0.080713 , -0.31047  , -0.57822  ,\n",
       "       -0.28067  , -0.069678 ,  0.068929 , -0.16227  , -0.63934  ,\n",
       "       -0.62149  ,  0.11222  , -0.16969  , -0.54637  ,  0.49661  ,\n",
       "        0.46565  ,  0.088294 , -0.48496  ,  0.69263  , -0.068977 ,\n",
       "       -0.53709  ,  0.20802  , -0.42987  , -0.11921  ,  0.1174   ,\n",
       "       -0.18443  ,  0.43797  , -0.1236   ,  0.3607   , -0.19608  ,\n",
       "       -0.35366  ,  0.18808  , -0.5061   ,  0.14455  , -0.024368 ,\n",
       "       -0.10772  , -0.0115   ,  0.58634  , -0.054461 ,  0.0076487,\n",
       "       -0.056297 ,  0.27193  ,  0.23096  , -0.29296  , -0.24325  ,\n",
       "        0.10317  , -0.10014  ,  0.7089   ,  0.17402  , -0.0037509,\n",
       "       -0.46304  ,  0.11806  , -0.16457  , -0.38609  ,  0.14524  ,\n",
       "        0.098122 , -0.12352  , -0.1047   ,  0.39047  , -0.3063   ,\n",
       "       -0.65375  , -0.0044248, -0.033876 ,  0.037114 , -0.27472  ,\n",
       "        0.0053147,  0.30737  ,  0.12528  , -0.19527  , -0.16461  ,\n",
       "        0.087518 , -0.051107 , -0.16323  ,  0.521    ,  0.10822  ,\n",
       "       -0.060379 , -0.71735  , -0.064327 ,  0.37043  , -0.41054  ,\n",
       "       -0.2728   , -0.30217  ,  0.015771 , -0.43056  ,  0.35647  ,\n",
       "        0.17188  , -0.54598  , -0.21541  , -0.044889 , -0.10597  ,\n",
       "       -0.54391  ,  0.53908  ,  0.070938 ,  0.097839 ,  0.097908 ,\n",
       "        0.17805  ,  0.18995  ,  0.49962  , -0.18529  ,  0.051234 ,\n",
       "        0.019574 ,  0.24805  ,  0.3144   , -0.29304  ,  0.54235  ,\n",
       "        0.46672  ,  0.26017  , -0.44705  ,  0.28287  , -0.033345 ,\n",
       "       -0.33181  , -0.10902  , -0.023324 ,  0.2106   , -0.29633  ,\n",
       "        0.81506  ,  0.038524 ,  0.46004  ,  0.17187  , -0.29804  ],\n",
       "      dtype=float32)"
      ]
     },
     "execution_count": 2,
     "metadata": {
      "tags": []
     },
     "output_type": "execute_result"
    }
   ],
   "source": [
    "nlp(\"cat\").vector"
   ]
  },
  {
   "cell_type": "markdown",
   "metadata": {
    "id": "WRhi7g284KV8"
   },
   "source": [
    "A nice property of word embedding is that similar words (words appear in the same contexts) are usually grouped together. For example, the words **good** and **great** are often used in the same context (Have a **great** day, Have a **good** day) so, their embedding vectors are closed to each other than let's say **good** and **cat**. We can use cosine similarity to check the similarity between two vectors, spaCy already has the similarity function so, let's check it out."
   ]
  },
  {
   "cell_type": "code",
   "execution_count": 27,
   "metadata": {
    "colab": {
     "base_uri": "https://localhost:8080/"
    },
    "id": "XxWWgSD-4KV8",
    "outputId": "a0697ae8-3721-4929-d1d2-8501ea044846"
   },
   "outputs": [
    {
     "name": "stdout",
     "output_type": "stream",
     "text": [
      "0.841670781054402\n",
      "0.2433478967733492\n"
     ]
    }
   ],
   "source": [
    "print (nlp(\"great\").similarity(nlp(\"good\")))\n",
    "print (nlp(\"great\").similarity(nlp(\"cat\")))"
   ]
  },
  {
   "cell_type": "markdown",
   "metadata": {
    "id": "xqwqFXsE4KV8"
   },
   "source": [
    "The similarity between **great** and **good** is **0.84**. Meanwhile the similarity between **great** and **cat** is only **0.24**."
   ]
  },
  {
   "cell_type": "markdown",
   "metadata": {
    "id": "pB3SHbhO4KV9"
   },
   "source": [
    "### Use word embbedding to represent texts as vectors\n",
    "We now can represent a single word as vector using word embedding but, how do we represent a sentence or paragraph as a vector so we can feed into our **Feedforward Neural Network**? \n"
   ]
  },
  {
   "cell_type": "code",
   "execution_count": 38,
   "metadata": {
    "id": "Z5dJG-f-4KV9"
   },
   "outputs": [],
   "source": [
    "def average_vectors_text(text):\n",
    "    \"\"\"\n",
    "        :param text: A user input text\n",
    "        :return: The average vector of word embedding vectors in the text input\n",
    "    \"\"\"\n",
    "    word_list = text.split()\n",
    "    embedding_list = [nlp(i).vector for i in word_list]\n",
    "    average_vector = np.mean(embedding_list, axis = 0)\n",
    "    return average_vector\n",
    " "
   ]
  },
  {
   "cell_type": "code",
   "execution_count": 28,
   "metadata": {
    "colab": {
     "base_uri": "https://localhost:8080/"
    },
    "id": "Poqtxr9cKlCs",
    "outputId": "aa39fdbe-23e0-468f-ecd4-19caf4e2d4d4"
   },
   "outputs": [
    {
     "data": {
      "text/plain": [
       "['find', 'the', 'soundtrack', 'titled', 'this', 'side', 'of', 'paradise']"
      ]
     },
     "execution_count": 28,
     "metadata": {
      "tags": []
     },
     "output_type": "execute_result"
    }
   ],
   "source": [
    "train_df['text'][0].split()"
   ]
  },
  {
   "cell_type": "markdown",
   "metadata": {
    "id": "OOweo1uV4KV9"
   },
   "source": [
    "Apply the **average_vectors_text** function to the **text** columns of the **train_df** and **test_df** data frames to get **X_train_spacy** and **X_test_spacy**. The feature dimension size is now only 300.\n",
    "<br>\n",
    "**NOTE**: It might takes 15 - 20 minutes to run "
   ]
  },
  {
   "cell_type": "code",
   "execution_count": 39,
   "metadata": {
    "id": "rw9SwyzH4KV9"
   },
   "outputs": [],
   "source": [
    "X_train_spacy = train_df[\"text\"].apply(average_vectors_text)\n",
    "X_test_spacy = test_df[\"text\"].apply(average_vectors_text)\n",
    "\n",
    "X_train_spacy = X_train_spacy.tolist()\n",
    "X_test_spacy = X_test_spacy.tolist()"
   ]
  },
  {
   "cell_type": "code",
   "execution_count": 43,
   "metadata": {
    "colab": {
     "base_uri": "https://localhost:8080/"
    },
    "id": "25rUiNW3Q7IQ",
    "outputId": "1011b559-b1e9-4996-9365-924090223a09"
   },
   "outputs": [
    {
     "data": {
      "text/plain": [
       "300"
      ]
     },
     "execution_count": 43,
     "metadata": {
      "tags": []
     },
     "output_type": "execute_result"
    }
   ],
   "source": [
    "len(X_train_spacy[0])"
   ]
  },
  {
   "cell_type": "markdown",
   "metadata": {
    "id": "1Db3Qoop4KV9"
   },
   "source": [
    "### Create and train the model\n",
    "Now create a **MLPClassifier** and train it on the **X_train_spacy** and **y_train**.\n"
   ]
  },
  {
   "cell_type": "code",
   "execution_count": 44,
   "metadata": {
    "id": "_DcZu06MRU08"
   },
   "outputs": [],
   "source": [
    "from sklearn.neural_network import MLPClassifier"
   ]
  },
  {
   "cell_type": "code",
   "execution_count": 45,
   "metadata": {
    "id": "4lI_imtm4KV9"
   },
   "outputs": [],
   "source": [
    "# Create and train the neural network model\n",
    "mlp_clf = MLPClassifier(solver='adam', alpha=1e-2, activation='relu', hidden_layer_sizes=(128))\n",
    "nn_model = mlp_clf.fit(X_train_spacy, y_true_train)"
   ]
  },
  {
   "cell_type": "markdown",
   "metadata": {
    "id": "dNgh2TUc4KV-"
   },
   "source": [
    "### Evaluate the model\n",
    "Evaluate on the model on the **X_test_spacy** and **y_test**.\n",
    "<br>"
   ]
  },
  {
   "cell_type": "code",
   "execution_count": 46,
   "metadata": {
    "colab": {
     "base_uri": "https://localhost:8080/"
    },
    "id": "pd6al0XE4KV-",
    "outputId": "136e8454-2097-4c6e-de02-c552340f5d32",
    "scrolled": true
   },
   "outputs": [
    {
     "name": "stdout",
     "output_type": "stream",
     "text": [
      "Classificaton report for test data with Neural Network\n",
      "\n",
      "                      precision    recall  f1-score   support\n",
      "\n",
      "       AddToPlaylist       0.97      1.00      0.99       100\n",
      "      BookRestaurant       0.99      0.99      0.99       100\n",
      "          GetWeather       0.99      1.00      1.00       100\n",
      "           PlayMusic       0.99      0.97      0.98       100\n",
      "            RateBook       1.00      1.00      1.00       100\n",
      "  SearchCreativeWork       0.95      0.98      0.97       100\n",
      "SearchScreeningEvent       0.99      0.94      0.96       100\n",
      "\n",
      "            accuracy                           0.98       700\n",
      "           macro avg       0.98      0.98      0.98       700\n",
      "        weighted avg       0.98      0.98      0.98       700\n",
      "\n"
     ]
    }
   ],
   "source": [
    "# Evaluate the model\n",
    "y_pred_test_nn = nn_model.predict(X_test_spacy)\n",
    "print('Classificaton report for test data with Neural Network')\n",
    "print('')\n",
    "print(classification_report(y_true_test, y_pred_test_nn))"
   ]
  },
  {
   "cell_type": "markdown",
   "metadata": {
    "id": "od-enFNq4KV-"
   },
   "source": [
    "The f1-score is about **0.98**."
   ]
  },
  {
   "cell_type": "markdown",
   "metadata": {
    "id": "6aI2uv804KV-"
   },
   "source": [
    "## Error analysis\n",
    "Let's look at some of the examples that the models make mistakes to see if we can improve the models.\n"
   ]
  },
  {
   "cell_type": "code",
   "execution_count": 47,
   "metadata": {
    "id": "gYMJ1MJ54KV-"
   },
   "outputs": [],
   "source": [
    "def print_mistake_samples(y, y_pred, df):\n",
    "    \"\"\" \n",
    "        :param y: The true labels\n",
    "        :param y_pred: The predicted labels\n",
    "        :param df: The dataframe (train_df/test_df)\n",
    "        \n",
    "        :return: None\n",
    "    \"\"\"\n",
    "    wrong_indices = y != y_pred \n",
    "    wrong_df = df.loc[wrong_indices, :].copy()\n",
    "    wrong_df[\"pred\"] = y_pred[wrong_indices]\n",
    "    \n",
    "    print (f\"Number of mistakes: {wrong_df.shape[0]}\")\n",
    "    print ('text, true, predict')\n",
    "    for i, row in wrong_df.iterrows():\n",
    "        print(f\"{row['text']}, {row['intent']}, {row['pred']}\")"
   ]
  },
  {
   "cell_type": "markdown",
   "metadata": {
    "id": "zRoCjhAw4KV-"
   },
   "source": [
    "Print the mistakes by the simple Logistic Regression model"
   ]
  },
  {
   "cell_type": "code",
   "execution_count": 48,
   "metadata": {
    "colab": {
     "base_uri": "https://localhost:8080/"
    },
    "id": "r1zcHJEX4KV-",
    "outputId": "4ef90b16-f4a3-4e51-ff6c-d024af9da291"
   },
   "outputs": [
    {
     "name": "stdout",
     "output_type": "stream",
     "text": [
      "Number of mistakes: 15\n",
      "text, true, predict\n",
      "i want to see shattered image, SearchScreeningEvent, SearchCreativeWork\n",
      "find the movie splendor in the grass, SearchCreativeWork, SearchScreeningEvent\n",
      "humidity not far from colorado city on november the 7th 2024, GetWeather, BookRestaurant\n",
      "where is belgium located, GetWeather, SearchScreeningEvent\n",
      "live in lajoseph meyer please, PlayMusic, SearchCreativeWork\n",
      "overcast on state holiday in pawling nature reserve  and neighboring places, GetWeather, BookRestaurant\n",
      "i want to see jla adventures trapped in time, SearchScreeningEvent, SearchCreativeWork\n",
      "i want to see fear chamber, SearchScreeningEvent, SearchCreativeWork\n",
      "i want to see medal for the general, SearchScreeningEvent, SearchCreativeWork\n",
      "i want to see those kids from town when will it be showing, SearchScreeningEvent, GetWeather\n",
      "i want to see outcast, SearchScreeningEvent, SearchCreativeWork\n",
      "when is sunrise for ar, GetWeather, SearchScreeningEvent\n",
      "put what color is your sky by alana davis on the stereo, PlayMusic, AddToPlaylist\n",
      "where can i see the prime ministers the pioneers, SearchScreeningEvent, SearchCreativeWork\n",
      "can you put on like a hurricane by paul landers, PlayMusic, AddToPlaylist\n"
     ]
    }
   ],
   "source": [
    "print_mistake_samples(y_true_test, y_pred_test_logis, test_df)\n"
   ]
  },
  {
   "cell_type": "markdown",
   "metadata": {
    "id": "cdep9c5E4KV_"
   },
   "source": [
    "Print the mistakes by the cross-validation Logistic Regression model"
   ]
  },
  {
   "cell_type": "code",
   "execution_count": 49,
   "metadata": {
    "colab": {
     "base_uri": "https://localhost:8080/"
    },
    "id": "Yj6ndgwW4KV_",
    "outputId": "7a86bc3e-065f-4b24-ffaf-0cbef49f180a",
    "scrolled": true
   },
   "outputs": [
    {
     "name": "stdout",
     "output_type": "stream",
     "text": [
      "Number of mistakes: 13\n",
      "text, true, predict\n",
      "i want to see shattered image, SearchScreeningEvent, SearchCreativeWork\n",
      "humidity not far from colorado city on november the 7th 2024, GetWeather, BookRestaurant\n",
      "where is belgium located, GetWeather, SearchScreeningEvent\n",
      "live in lajoseph meyer please, PlayMusic, SearchCreativeWork\n",
      "i want to see jla adventures trapped in time, SearchScreeningEvent, SearchCreativeWork\n",
      "i want to see fear chamber, SearchScreeningEvent, SearchCreativeWork\n",
      "i want to see medal for the general, SearchScreeningEvent, SearchCreativeWork\n",
      "i want to see those kids from town when will it be showing, SearchScreeningEvent, GetWeather\n",
      "i want to see outcast, SearchScreeningEvent, SearchCreativeWork\n",
      "when is sunrise for ar, GetWeather, SearchScreeningEvent\n",
      "put what color is your sky by alana davis on the stereo, PlayMusic, AddToPlaylist\n",
      "where can i see the prime ministers the pioneers, SearchScreeningEvent, SearchCreativeWork\n",
      "can you put on like a hurricane by paul landers, PlayMusic, AddToPlaylist\n"
     ]
    }
   ],
   "source": [
    "print_mistake_samples(y_true_test, y_pred_test_logis2, test_df)\n"
   ]
  },
  {
   "cell_type": "markdown",
   "metadata": {
    "id": "Defp7Z8b4KV_"
   },
   "source": [
    "Print the mistakes by the Neural Network model"
   ]
  },
  {
   "cell_type": "code",
   "execution_count": 50,
   "metadata": {
    "colab": {
     "base_uri": "https://localhost:8080/"
    },
    "id": "aRG4kJIr4KV_",
    "outputId": "a32ed590-9000-47b6-ff0a-d2ad78592247",
    "scrolled": true
   },
   "outputs": [
    {
     "name": "stdout",
     "output_type": "stream",
     "text": [
      "Number of mistakes: 12\n",
      "text, true, predict\n",
      "i want to book oregon electric station in north city, BookRestaurant, GetWeather\n",
      "i need to find the movie theatre showing the crooked web closest to me, SearchScreeningEvent, SearchCreativeWork\n",
      "i want to see shattered image, SearchScreeningEvent, SearchCreativeWork\n",
      "will i think i do be playing at 7 pm, SearchScreeningEvent, PlayMusic\n",
      "play my black sabbath the dio years playlist, PlayMusic, AddToPlaylist\n",
      "im looking for welcome to the canteen, SearchCreativeWork, BookRestaurant\n",
      "live in lajoseph meyer please, PlayMusic, AddToPlaylist\n",
      "i want to see medal for the general, SearchScreeningEvent, SearchCreativeWork\n",
      "i want to see outcast, SearchScreeningEvent, SearchCreativeWork\n",
      "find me the soundtrack live at the greek theatre, SearchCreativeWork, SearchScreeningEvent\n",
      "show me the schedule for rat rod rockers, SearchScreeningEvent, SearchCreativeWork\n",
      "can you put on like a hurricane by paul landers, PlayMusic, AddToPlaylist\n"
     ]
    }
   ],
   "source": [
    "print_mistake_samples(y_true_test, y_pred_test_nn, test_df)\n"
   ]
  },
  {
   "cell_type": "markdown",
   "metadata": {
    "id": "lUbmOmBn4KV_"
   },
   "source": [
    "**Here are the few examples that all the models make mistakes on:**\n",
    "* \"where is belgium located\": The correct label is **GetWeather** but, as we can see it is a question about finding where **belgium** is. It is not a \"GetWeather\" command that is kind of similar in the train set. I think the label is wrong for this sample.\n",
    "* \"can you put on like a hurricane by paul landers\": The correct label is **PlayMusic**. Here, the models are confused with the key word **put on**. In the train set many examples of the intent **AddToPlaylist** includes the keyword **put on** so, this example is really hard for machine learning models.\n",
    "* \"live in lajoseph meyer please\": The correct label is **PlayMusic**. Because of the word **please** is added at the end of the sentence so it becomes a \"PlayMusic\" command so, this example is clearly a really hard example for our models to figure it out.\n",
    "Similarly, you can analyze by yourself to debug more about the models."
   ]
  },
  {
   "cell_type": "markdown",
   "metadata": {
    "id": "TN3wsXAR4KV_"
   },
   "source": [
    "## Improving the models"
   ]
  },
  {
   "cell_type": "markdown",
   "metadata": {
    "id": "w1hwoWSm4KV_"
   },
   "source": [
    "I have achieved a pretty high score (around 0.98 f1) for this problem just using a simple **Logistic Regression** model and after analyzing errors, I saw that the models make mistakes on incorrectly labeled data and ambiguous samples so, for now, it is pretty hard to increase the score."
   ]
  },
  {
   "cell_type": "markdown",
   "metadata": {
    "id": "dy0ZIRXN4KWA"
   },
   "source": [
    "## Deploy the models\n",
    "Let's assume we are working on a team that is building a virtual assistant and our job is building the intent recognition module. The input is a list of user input texts and the output is a list of corresponding intents.\n",
    "\n",
    "**NOTE**: If predicted intents have probabilities lower than the **threshold**, return **Fallback** intent."
   ]
  },
  {
   "cell_type": "code",
   "execution_count": 106,
   "metadata": {
    "id": "EfSJyv9l4KWA"
   },
   "outputs": [],
   "source": [
    "def recognize_intents(texts, model, model_type, threshold, vectorizer=None):\n",
    "    \"\"\"\n",
    "        Recognize intents of user input texts\n",
    "        \n",
    "        :param text: A list of user input texts\n",
    "        :param model: A sklearn model\n",
    "        :param model_type: Either \"lg\" or \"nn\"\n",
    "        :param threshold: The predicted intents must have confidences equal or greater than this threshold\n",
    "        :param vectorizer: Vectorizer for transforming texts into vectors (only use when model_type == \"lg\")\n",
    "        \n",
    "        :return: A list of intents\n",
    "    \"\"\"\n",
    "    # Preprocess texts using the pre_process function\n",
    "    processed_texts = [pre_process(text) for text in texts]\n",
    "    \n",
    "    # Transforms texts into vectors corresponding to the model_type\n",
    "    if model_type == \"lg\": # use tfidf vectorizer here\n",
    "      vectors = vectorizer.transform(processed_texts)\n",
    "    elif model_type == \"nn\": # user word embedding here\n",
    "      vectors = [average_vectors_text(text) for text in processed_texts]\n",
    "        \n",
    "    else:\n",
    "        raise Exception(f\"Not found {model_type} model_type\")\n",
    "    \n",
    "    # Predict intents and check the probability threshold\n",
    "\n",
    "    # If all intent probabilities below the threshold,\n",
    "    # return the intent as \"Fallback\" for that user input text\n",
    "    list_intents = [model.classes_[idx] for idx in np.argmax(model.predict_proba(vectors), axis =1)]\n",
    "    intents_proba = np.max(model.predict_proba(vectors), axis =1).tolist()\n",
    "    for proba, intent in zip(intents_proba,list_intents):\n",
    "      if proba < threshold:\n",
    "        list_intents[intents_proba.index(proba)] = 'Fallback'\n",
    "\n",
    "    return list_intents"
   ]
  },
  {
   "cell_type": "markdown",
   "metadata": {
    "id": "WYRyIH8k4KWA"
   },
   "source": [
    "Let's try it out."
   ]
  },
  {
   "cell_type": "code",
   "execution_count": 104,
   "metadata": {
    "colab": {
     "base_uri": "https://localhost:8080/"
    },
    "id": "APccE24gepDJ",
    "outputId": "b03adc3f-d648-415b-ff57-4cfb753b42c8"
   },
   "outputs": [
    {
     "data": {
      "text/plain": [
       "array(['AddToPlaylist', 'BookRestaurant', 'GetWeather', 'PlayMusic',\n",
       "       'RateBook', 'SearchCreativeWork', 'SearchScreeningEvent'],\n",
       "      dtype='<U20')"
      ]
     },
     "execution_count": 104,
     "metadata": {
      "tags": []
     },
     "output_type": "execute_result"
    }
   ],
   "source": [
    "nn_model.classes_"
   ]
  },
  {
   "cell_type": "code",
   "execution_count": 52,
   "metadata": {
    "id": "ciIAv7mW4KWA"
   },
   "outputs": [],
   "source": [
    "input_texts = [\n",
    "    \"Play happy new year\",\n",
    "    \"What is the weather in Ha Noi?\",\n",
    "    \"Will it rain tomorow?\",\n",
    "    \"Add despacito to my favourite playlist.\",\n",
    "    \"What is your name?\",\n",
    "]"
   ]
  },
  {
   "cell_type": "markdown",
   "metadata": {
    "id": "gCQEFalN4KWA"
   },
   "source": [
    "Try simple Logistic Regression with **0.7** threshold and tfidf vectorizer."
   ]
  },
  {
   "cell_type": "code",
   "execution_count": 107,
   "metadata": {
    "colab": {
     "base_uri": "https://localhost:8080/"
    },
    "id": "WRU6Ogrl4KWA",
    "outputId": "1e58076d-83b4-4c42-c0c8-653bd0702d73"
   },
   "outputs": [
    {
     "data": {
      "text/plain": [
       "['PlayMusic', 'GetWeather', 'GetWeather', 'AddToPlaylist', 'Fallback']"
      ]
     },
     "execution_count": 107,
     "metadata": {
      "tags": []
     },
     "output_type": "execute_result"
    }
   ],
   "source": [
    "recognize_intents(input_texts, model=logis_model, model_type='lg', threshold=0.7, vectorizer=tfidf)"
   ]
  },
  {
   "cell_type": "markdown",
   "metadata": {
    "id": "Yb_-6WpX4KWA"
   },
   "source": [
    "Try your Neural Network with 0.7 threshold"
   ]
  },
  {
   "cell_type": "code",
   "execution_count": 108,
   "metadata": {
    "colab": {
     "base_uri": "https://localhost:8080/"
    },
    "id": "7THRA71s4KWB",
    "outputId": "41cee3b1-056c-4c69-e5c9-28bf295a1f6b",
    "scrolled": true
   },
   "outputs": [
    {
     "data": {
      "text/plain": [
       "['PlayMusic',\n",
       " 'GetWeather',\n",
       " 'GetWeather',\n",
       " 'AddToPlaylist',\n",
       " 'SearchCreativeWork']"
      ]
     },
     "execution_count": 108,
     "metadata": {
      "tags": []
     },
     "output_type": "execute_result"
    }
   ],
   "source": [
    "recognize_intents(input_texts, model=nn_model, model_type='nn', threshold=0.7)"
   ]
  },
  {
   "cell_type": "markdown",
   "metadata": {
    "id": "WmRV49s54KWB"
   },
   "source": [
    "Try Neural Network with 0.8 threshold"
   ]
  },
  {
   "cell_type": "code",
   "execution_count": 109,
   "metadata": {
    "colab": {
     "base_uri": "https://localhost:8080/"
    },
    "id": "wZh62ARO4KWB",
    "outputId": "e6b12f42-c626-4a49-bee6-1c38b98cf7e4"
   },
   "outputs": [
    {
     "data": {
      "text/plain": [
       "['PlayMusic',\n",
       " 'GetWeather',\n",
       " 'GetWeather',\n",
       " 'AddToPlaylist',\n",
       " 'SearchCreativeWork']"
      ]
     },
     "execution_count": 109,
     "metadata": {
      "tags": []
     },
     "output_type": "execute_result"
    }
   ],
   "source": [
    "recognize_intents(input_texts, model=nn_model, model_type='nn', threshold=0.8)\n"
   ]
  },
  {
   "cell_type": "markdown",
   "metadata": {
    "id": "uoJ1bkPH4KWB"
   },
   "source": [
    "Try Neural Network with 0.95 threshold"
   ]
  },
  {
   "cell_type": "code",
   "execution_count": 110,
   "metadata": {
    "colab": {
     "base_uri": "https://localhost:8080/"
    },
    "id": "LDzm_pIp4KWC",
    "outputId": "58ebbebc-0832-472c-f263-03e5b2d591ed"
   },
   "outputs": [
    {
     "data": {
      "text/plain": [
       "['Fallback', 'GetWeather', 'GetWeather', 'AddToPlaylist', 'SearchCreativeWork']"
      ]
     },
     "execution_count": 110,
     "metadata": {
      "tags": []
     },
     "output_type": "execute_result"
    }
   ],
   "source": [
    "recognize_intents(input_texts, model=nn_model, model_type='nn', threshold=0.95)\r\n"
   ]
  },
  {
   "cell_type": "markdown",
   "metadata": {
    "id": "UOzuJ7SmnTe_"
   },
   "source": [
    "# Improve model\r\n",
    "\r\n"
   ]
  },
  {
   "cell_type": "markdown",
   "metadata": {
    "id": "Mz1OIDaqIa7a"
   },
   "source": [
    "## Try to improve neural network model"
   ]
  },
  {
   "cell_type": "code",
   "execution_count": 101,
   "metadata": {
    "colab": {
     "base_uri": "https://localhost:8080/"
    },
    "collapsed": true,
    "id": "qt9piYmNnmY8",
    "jupyter": {
     "outputs_hidden": true
    },
    "outputId": "fd9a8319-561a-4cb1-a763-a70fcca7649f",
    "tags": []
   },
   "outputs": [
    {
     "name": "stderr",
     "output_type": "stream",
     "text": [
      "/usr/local/lib/python3.6/dist-packages/sklearn/neural_network/_multilayer_perceptron.py:571: ConvergenceWarning: Stochastic Optimizer: Maximum iterations (200) reached and the optimization hasn't converged yet.\n",
      "  % self.max_iter, ConvergenceWarning)\n",
      "/usr/local/lib/python3.6/dist-packages/sklearn/neural_network/_multilayer_perceptron.py:571: ConvergenceWarning: Stochastic Optimizer: Maximum iterations (200) reached and the optimization hasn't converged yet.\n",
      "  % self.max_iter, ConvergenceWarning)\n",
      "/usr/local/lib/python3.6/dist-packages/sklearn/neural_network/_multilayer_perceptron.py:571: ConvergenceWarning: Stochastic Optimizer: Maximum iterations (200) reached and the optimization hasn't converged yet.\n",
      "  % self.max_iter, ConvergenceWarning)\n",
      "/usr/local/lib/python3.6/dist-packages/sklearn/neural_network/_multilayer_perceptron.py:571: ConvergenceWarning: Stochastic Optimizer: Maximum iterations (200) reached and the optimization hasn't converged yet.\n",
      "  % self.max_iter, ConvergenceWarning)\n",
      "/usr/local/lib/python3.6/dist-packages/sklearn/neural_network/_multilayer_perceptron.py:571: ConvergenceWarning: Stochastic Optimizer: Maximum iterations (200) reached and the optimization hasn't converged yet.\n",
      "  % self.max_iter, ConvergenceWarning)\n",
      "/usr/local/lib/python3.6/dist-packages/sklearn/neural_network/_multilayer_perceptron.py:470: ConvergenceWarning: lbfgs failed to converge (status=1):\n",
      "STOP: TOTAL NO. of ITERATIONS REACHED LIMIT.\n",
      "\n",
      "Increase the number of iterations (max_iter) or scale the data as shown in:\n",
      "    https://scikit-learn.org/stable/modules/preprocessing.html\n",
      "  self.n_iter_ = _check_optimize_result(\"lbfgs\", opt_res, self.max_iter)\n",
      "/usr/local/lib/python3.6/dist-packages/sklearn/neural_network/_multilayer_perceptron.py:470: ConvergenceWarning: lbfgs failed to converge (status=1):\n",
      "STOP: TOTAL NO. of ITERATIONS REACHED LIMIT.\n",
      "\n",
      "Increase the number of iterations (max_iter) or scale the data as shown in:\n",
      "    https://scikit-learn.org/stable/modules/preprocessing.html\n",
      "  self.n_iter_ = _check_optimize_result(\"lbfgs\", opt_res, self.max_iter)\n",
      "/usr/local/lib/python3.6/dist-packages/sklearn/neural_network/_multilayer_perceptron.py:571: ConvergenceWarning: Stochastic Optimizer: Maximum iterations (200) reached and the optimization hasn't converged yet.\n",
      "  % self.max_iter, ConvergenceWarning)\n",
      "/usr/local/lib/python3.6/dist-packages/sklearn/neural_network/_multilayer_perceptron.py:571: ConvergenceWarning: Stochastic Optimizer: Maximum iterations (200) reached and the optimization hasn't converged yet.\n",
      "  % self.max_iter, ConvergenceWarning)\n",
      "/usr/local/lib/python3.6/dist-packages/sklearn/neural_network/_multilayer_perceptron.py:571: ConvergenceWarning: Stochastic Optimizer: Maximum iterations (200) reached and the optimization hasn't converged yet.\n",
      "  % self.max_iter, ConvergenceWarning)\n",
      "/usr/local/lib/python3.6/dist-packages/sklearn/neural_network/_multilayer_perceptron.py:571: ConvergenceWarning: Stochastic Optimizer: Maximum iterations (200) reached and the optimization hasn't converged yet.\n",
      "  % self.max_iter, ConvergenceWarning)\n",
      "/usr/local/lib/python3.6/dist-packages/sklearn/neural_network/_multilayer_perceptron.py:571: ConvergenceWarning: Stochastic Optimizer: Maximum iterations (200) reached and the optimization hasn't converged yet.\n",
      "  % self.max_iter, ConvergenceWarning)\n",
      "/usr/local/lib/python3.6/dist-packages/sklearn/neural_network/_multilayer_perceptron.py:571: ConvergenceWarning: Stochastic Optimizer: Maximum iterations (200) reached and the optimization hasn't converged yet.\n",
      "  % self.max_iter, ConvergenceWarning)\n",
      "/usr/local/lib/python3.6/dist-packages/sklearn/neural_network/_multilayer_perceptron.py:571: ConvergenceWarning: Stochastic Optimizer: Maximum iterations (200) reached and the optimization hasn't converged yet.\n",
      "  % self.max_iter, ConvergenceWarning)\n",
      "/usr/local/lib/python3.6/dist-packages/sklearn/neural_network/_multilayer_perceptron.py:571: ConvergenceWarning: Stochastic Optimizer: Maximum iterations (200) reached and the optimization hasn't converged yet.\n",
      "  % self.max_iter, ConvergenceWarning)\n",
      "/usr/local/lib/python3.6/dist-packages/sklearn/neural_network/_multilayer_perceptron.py:571: ConvergenceWarning: Stochastic Optimizer: Maximum iterations (200) reached and the optimization hasn't converged yet.\n",
      "  % self.max_iter, ConvergenceWarning)\n",
      "/usr/local/lib/python3.6/dist-packages/sklearn/neural_network/_multilayer_perceptron.py:571: ConvergenceWarning: Stochastic Optimizer: Maximum iterations (200) reached and the optimization hasn't converged yet.\n",
      "  % self.max_iter, ConvergenceWarning)\n",
      "/usr/local/lib/python3.6/dist-packages/sklearn/neural_network/_multilayer_perceptron.py:470: ConvergenceWarning: lbfgs failed to converge (status=1):\n",
      "STOP: TOTAL NO. of ITERATIONS REACHED LIMIT.\n",
      "\n",
      "Increase the number of iterations (max_iter) or scale the data as shown in:\n",
      "    https://scikit-learn.org/stable/modules/preprocessing.html\n",
      "  self.n_iter_ = _check_optimize_result(\"lbfgs\", opt_res, self.max_iter)\n",
      "/usr/local/lib/python3.6/dist-packages/sklearn/neural_network/_multilayer_perceptron.py:470: ConvergenceWarning: lbfgs failed to converge (status=1):\n",
      "STOP: TOTAL NO. of ITERATIONS REACHED LIMIT.\n",
      "\n",
      "Increase the number of iterations (max_iter) or scale the data as shown in:\n",
      "    https://scikit-learn.org/stable/modules/preprocessing.html\n",
      "  self.n_iter_ = _check_optimize_result(\"lbfgs\", opt_res, self.max_iter)\n",
      "/usr/local/lib/python3.6/dist-packages/sklearn/neural_network/_multilayer_perceptron.py:470: ConvergenceWarning: lbfgs failed to converge (status=1):\n",
      "STOP: TOTAL NO. of ITERATIONS REACHED LIMIT.\n",
      "\n",
      "Increase the number of iterations (max_iter) or scale the data as shown in:\n",
      "    https://scikit-learn.org/stable/modules/preprocessing.html\n",
      "  self.n_iter_ = _check_optimize_result(\"lbfgs\", opt_res, self.max_iter)\n",
      "/usr/local/lib/python3.6/dist-packages/sklearn/neural_network/_multilayer_perceptron.py:470: ConvergenceWarning: lbfgs failed to converge (status=1):\n",
      "STOP: TOTAL NO. of ITERATIONS REACHED LIMIT.\n",
      "\n",
      "Increase the number of iterations (max_iter) or scale the data as shown in:\n",
      "    https://scikit-learn.org/stable/modules/preprocessing.html\n",
      "  self.n_iter_ = _check_optimize_result(\"lbfgs\", opt_res, self.max_iter)\n",
      "/usr/local/lib/python3.6/dist-packages/sklearn/neural_network/_multilayer_perceptron.py:470: ConvergenceWarning: lbfgs failed to converge (status=1):\n",
      "STOP: TOTAL NO. of ITERATIONS REACHED LIMIT.\n",
      "\n",
      "Increase the number of iterations (max_iter) or scale the data as shown in:\n",
      "    https://scikit-learn.org/stable/modules/preprocessing.html\n",
      "  self.n_iter_ = _check_optimize_result(\"lbfgs\", opt_res, self.max_iter)\n",
      "/usr/local/lib/python3.6/dist-packages/sklearn/neural_network/_multilayer_perceptron.py:571: ConvergenceWarning: Stochastic Optimizer: Maximum iterations (200) reached and the optimization hasn't converged yet.\n",
      "  % self.max_iter, ConvergenceWarning)\n",
      "/usr/local/lib/python3.6/dist-packages/sklearn/neural_network/_multilayer_perceptron.py:571: ConvergenceWarning: Stochastic Optimizer: Maximum iterations (200) reached and the optimization hasn't converged yet.\n",
      "  % self.max_iter, ConvergenceWarning)\n",
      "/usr/local/lib/python3.6/dist-packages/sklearn/neural_network/_multilayer_perceptron.py:571: ConvergenceWarning: Stochastic Optimizer: Maximum iterations (200) reached and the optimization hasn't converged yet.\n",
      "  % self.max_iter, ConvergenceWarning)\n",
      "/usr/local/lib/python3.6/dist-packages/sklearn/neural_network/_multilayer_perceptron.py:571: ConvergenceWarning: Stochastic Optimizer: Maximum iterations (200) reached and the optimization hasn't converged yet.\n",
      "  % self.max_iter, ConvergenceWarning)\n",
      "/usr/local/lib/python3.6/dist-packages/sklearn/neural_network/_multilayer_perceptron.py:571: ConvergenceWarning: Stochastic Optimizer: Maximum iterations (200) reached and the optimization hasn't converged yet.\n",
      "  % self.max_iter, ConvergenceWarning)\n",
      "/usr/local/lib/python3.6/dist-packages/sklearn/neural_network/_multilayer_perceptron.py:470: ConvergenceWarning: lbfgs failed to converge (status=1):\n",
      "STOP: TOTAL NO. of ITERATIONS REACHED LIMIT.\n",
      "\n",
      "Increase the number of iterations (max_iter) or scale the data as shown in:\n",
      "    https://scikit-learn.org/stable/modules/preprocessing.html\n",
      "  self.n_iter_ = _check_optimize_result(\"lbfgs\", opt_res, self.max_iter)\n",
      "/usr/local/lib/python3.6/dist-packages/sklearn/neural_network/_multilayer_perceptron.py:470: ConvergenceWarning: lbfgs failed to converge (status=1):\n",
      "STOP: TOTAL NO. of ITERATIONS REACHED LIMIT.\n",
      "\n",
      "Increase the number of iterations (max_iter) or scale the data as shown in:\n",
      "    https://scikit-learn.org/stable/modules/preprocessing.html\n",
      "  self.n_iter_ = _check_optimize_result(\"lbfgs\", opt_res, self.max_iter)\n",
      "/usr/local/lib/python3.6/dist-packages/sklearn/neural_network/_multilayer_perceptron.py:470: ConvergenceWarning: lbfgs failed to converge (status=1):\n",
      "STOP: TOTAL NO. of ITERATIONS REACHED LIMIT.\n",
      "\n",
      "Increase the number of iterations (max_iter) or scale the data as shown in:\n",
      "    https://scikit-learn.org/stable/modules/preprocessing.html\n",
      "  self.n_iter_ = _check_optimize_result(\"lbfgs\", opt_res, self.max_iter)\n",
      "/usr/local/lib/python3.6/dist-packages/sklearn/neural_network/_multilayer_perceptron.py:470: ConvergenceWarning: lbfgs failed to converge (status=1):\n",
      "STOP: TOTAL NO. of ITERATIONS REACHED LIMIT.\n",
      "\n",
      "Increase the number of iterations (max_iter) or scale the data as shown in:\n",
      "    https://scikit-learn.org/stable/modules/preprocessing.html\n",
      "  self.n_iter_ = _check_optimize_result(\"lbfgs\", opt_res, self.max_iter)\n",
      "/usr/local/lib/python3.6/dist-packages/sklearn/neural_network/_multilayer_perceptron.py:470: ConvergenceWarning: lbfgs failed to converge (status=1):\n",
      "STOP: TOTAL NO. of ITERATIONS REACHED LIMIT.\n",
      "\n",
      "Increase the number of iterations (max_iter) or scale the data as shown in:\n",
      "    https://scikit-learn.org/stable/modules/preprocessing.html\n",
      "  self.n_iter_ = _check_optimize_result(\"lbfgs\", opt_res, self.max_iter)\n",
      "/usr/local/lib/python3.6/dist-packages/sklearn/neural_network/_multilayer_perceptron.py:571: ConvergenceWarning: Stochastic Optimizer: Maximum iterations (200) reached and the optimization hasn't converged yet.\n",
      "  % self.max_iter, ConvergenceWarning)\n",
      "/usr/local/lib/python3.6/dist-packages/sklearn/neural_network/_multilayer_perceptron.py:571: ConvergenceWarning: Stochastic Optimizer: Maximum iterations (200) reached and the optimization hasn't converged yet.\n",
      "  % self.max_iter, ConvergenceWarning)\n",
      "/usr/local/lib/python3.6/dist-packages/sklearn/neural_network/_multilayer_perceptron.py:571: ConvergenceWarning: Stochastic Optimizer: Maximum iterations (200) reached and the optimization hasn't converged yet.\n",
      "  % self.max_iter, ConvergenceWarning)\n",
      "/usr/local/lib/python3.6/dist-packages/sklearn/neural_network/_multilayer_perceptron.py:571: ConvergenceWarning: Stochastic Optimizer: Maximum iterations (200) reached and the optimization hasn't converged yet.\n",
      "  % self.max_iter, ConvergenceWarning)\n",
      "/usr/local/lib/python3.6/dist-packages/sklearn/neural_network/_multilayer_perceptron.py:571: ConvergenceWarning: Stochastic Optimizer: Maximum iterations (200) reached and the optimization hasn't converged yet.\n",
      "  % self.max_iter, ConvergenceWarning)\n",
      "/usr/local/lib/python3.6/dist-packages/sklearn/neural_network/_multilayer_perceptron.py:470: ConvergenceWarning: lbfgs failed to converge (status=1):\n",
      "STOP: TOTAL NO. of ITERATIONS REACHED LIMIT.\n",
      "\n",
      "Increase the number of iterations (max_iter) or scale the data as shown in:\n",
      "    https://scikit-learn.org/stable/modules/preprocessing.html\n",
      "  self.n_iter_ = _check_optimize_result(\"lbfgs\", opt_res, self.max_iter)\n",
      "/usr/local/lib/python3.6/dist-packages/sklearn/neural_network/_multilayer_perceptron.py:470: ConvergenceWarning: lbfgs failed to converge (status=1):\n",
      "STOP: TOTAL NO. of ITERATIONS REACHED LIMIT.\n",
      "\n",
      "Increase the number of iterations (max_iter) or scale the data as shown in:\n",
      "    https://scikit-learn.org/stable/modules/preprocessing.html\n",
      "  self.n_iter_ = _check_optimize_result(\"lbfgs\", opt_res, self.max_iter)\n",
      "/usr/local/lib/python3.6/dist-packages/sklearn/neural_network/_multilayer_perceptron.py:470: ConvergenceWarning: lbfgs failed to converge (status=1):\n",
      "STOP: TOTAL NO. of ITERATIONS REACHED LIMIT.\n",
      "\n",
      "Increase the number of iterations (max_iter) or scale the data as shown in:\n",
      "    https://scikit-learn.org/stable/modules/preprocessing.html\n",
      "  self.n_iter_ = _check_optimize_result(\"lbfgs\", opt_res, self.max_iter)\n",
      "/usr/local/lib/python3.6/dist-packages/sklearn/neural_network/_multilayer_perceptron.py:470: ConvergenceWarning: lbfgs failed to converge (status=1):\n",
      "STOP: TOTAL NO. of ITERATIONS REACHED LIMIT.\n",
      "\n",
      "Increase the number of iterations (max_iter) or scale the data as shown in:\n",
      "    https://scikit-learn.org/stable/modules/preprocessing.html\n",
      "  self.n_iter_ = _check_optimize_result(\"lbfgs\", opt_res, self.max_iter)\n",
      "/usr/local/lib/python3.6/dist-packages/sklearn/neural_network/_multilayer_perceptron.py:470: ConvergenceWarning: lbfgs failed to converge (status=1):\n",
      "STOP: TOTAL NO. of ITERATIONS REACHED LIMIT.\n",
      "\n",
      "Increase the number of iterations (max_iter) or scale the data as shown in:\n",
      "    https://scikit-learn.org/stable/modules/preprocessing.html\n",
      "  self.n_iter_ = _check_optimize_result(\"lbfgs\", opt_res, self.max_iter)\n",
      "/usr/local/lib/python3.6/dist-packages/sklearn/neural_network/_multilayer_perceptron.py:571: ConvergenceWarning: Stochastic Optimizer: Maximum iterations (200) reached and the optimization hasn't converged yet.\n",
      "  % self.max_iter, ConvergenceWarning)\n",
      "/usr/local/lib/python3.6/dist-packages/sklearn/neural_network/_multilayer_perceptron.py:571: ConvergenceWarning: Stochastic Optimizer: Maximum iterations (200) reached and the optimization hasn't converged yet.\n",
      "  % self.max_iter, ConvergenceWarning)\n",
      "/usr/local/lib/python3.6/dist-packages/sklearn/neural_network/_multilayer_perceptron.py:571: ConvergenceWarning: Stochastic Optimizer: Maximum iterations (200) reached and the optimization hasn't converged yet.\n",
      "  % self.max_iter, ConvergenceWarning)\n",
      "/usr/local/lib/python3.6/dist-packages/sklearn/neural_network/_multilayer_perceptron.py:571: ConvergenceWarning: Stochastic Optimizer: Maximum iterations (200) reached and the optimization hasn't converged yet.\n",
      "  % self.max_iter, ConvergenceWarning)\n",
      "/usr/local/lib/python3.6/dist-packages/sklearn/neural_network/_multilayer_perceptron.py:571: ConvergenceWarning: Stochastic Optimizer: Maximum iterations (200) reached and the optimization hasn't converged yet.\n",
      "  % self.max_iter, ConvergenceWarning)\n",
      "/usr/local/lib/python3.6/dist-packages/sklearn/neural_network/_multilayer_perceptron.py:571: ConvergenceWarning: Stochastic Optimizer: Maximum iterations (200) reached and the optimization hasn't converged yet.\n",
      "  % self.max_iter, ConvergenceWarning)\n",
      "/usr/local/lib/python3.6/dist-packages/sklearn/neural_network/_multilayer_perceptron.py:571: ConvergenceWarning: Stochastic Optimizer: Maximum iterations (200) reached and the optimization hasn't converged yet.\n",
      "  % self.max_iter, ConvergenceWarning)\n",
      "/usr/local/lib/python3.6/dist-packages/sklearn/neural_network/_multilayer_perceptron.py:571: ConvergenceWarning: Stochastic Optimizer: Maximum iterations (200) reached and the optimization hasn't converged yet.\n",
      "  % self.max_iter, ConvergenceWarning)\n",
      "/usr/local/lib/python3.6/dist-packages/sklearn/neural_network/_multilayer_perceptron.py:571: ConvergenceWarning: Stochastic Optimizer: Maximum iterations (200) reached and the optimization hasn't converged yet.\n",
      "  % self.max_iter, ConvergenceWarning)\n",
      "/usr/local/lib/python3.6/dist-packages/sklearn/neural_network/_multilayer_perceptron.py:571: ConvergenceWarning: Stochastic Optimizer: Maximum iterations (200) reached and the optimization hasn't converged yet.\n",
      "  % self.max_iter, ConvergenceWarning)\n",
      "/usr/local/lib/python3.6/dist-packages/sklearn/neural_network/_multilayer_perceptron.py:571: ConvergenceWarning: Stochastic Optimizer: Maximum iterations (200) reached and the optimization hasn't converged yet.\n",
      "  % self.max_iter, ConvergenceWarning)\n",
      "/usr/local/lib/python3.6/dist-packages/sklearn/neural_network/_multilayer_perceptron.py:571: ConvergenceWarning: Stochastic Optimizer: Maximum iterations (200) reached and the optimization hasn't converged yet.\n",
      "  % self.max_iter, ConvergenceWarning)\n",
      "/usr/local/lib/python3.6/dist-packages/sklearn/neural_network/_multilayer_perceptron.py:571: ConvergenceWarning: Stochastic Optimizer: Maximum iterations (200) reached and the optimization hasn't converged yet.\n",
      "  % self.max_iter, ConvergenceWarning)\n",
      "/usr/local/lib/python3.6/dist-packages/sklearn/neural_network/_multilayer_perceptron.py:571: ConvergenceWarning: Stochastic Optimizer: Maximum iterations (200) reached and the optimization hasn't converged yet.\n",
      "  % self.max_iter, ConvergenceWarning)\n",
      "/usr/local/lib/python3.6/dist-packages/sklearn/neural_network/_multilayer_perceptron.py:571: ConvergenceWarning: Stochastic Optimizer: Maximum iterations (200) reached and the optimization hasn't converged yet.\n",
      "  % self.max_iter, ConvergenceWarning)\n",
      "/usr/local/lib/python3.6/dist-packages/sklearn/neural_network/_multilayer_perceptron.py:571: ConvergenceWarning: Stochastic Optimizer: Maximum iterations (200) reached and the optimization hasn't converged yet.\n",
      "  % self.max_iter, ConvergenceWarning)\n",
      "/usr/local/lib/python3.6/dist-packages/sklearn/neural_network/_multilayer_perceptron.py:571: ConvergenceWarning: Stochastic Optimizer: Maximum iterations (200) reached and the optimization hasn't converged yet.\n",
      "  % self.max_iter, ConvergenceWarning)\n",
      "/usr/local/lib/python3.6/dist-packages/sklearn/neural_network/_multilayer_perceptron.py:571: ConvergenceWarning: Stochastic Optimizer: Maximum iterations (200) reached and the optimization hasn't converged yet.\n",
      "  % self.max_iter, ConvergenceWarning)\n",
      "/usr/local/lib/python3.6/dist-packages/sklearn/neural_network/_multilayer_perceptron.py:571: ConvergenceWarning: Stochastic Optimizer: Maximum iterations (200) reached and the optimization hasn't converged yet.\n",
      "  % self.max_iter, ConvergenceWarning)\n",
      "/usr/local/lib/python3.6/dist-packages/sklearn/neural_network/_multilayer_perceptron.py:571: ConvergenceWarning: Stochastic Optimizer: Maximum iterations (200) reached and the optimization hasn't converged yet.\n",
      "  % self.max_iter, ConvergenceWarning)\n",
      "/usr/local/lib/python3.6/dist-packages/sklearn/neural_network/_multilayer_perceptron.py:571: ConvergenceWarning: Stochastic Optimizer: Maximum iterations (200) reached and the optimization hasn't converged yet.\n",
      "  % self.max_iter, ConvergenceWarning)\n",
      "/usr/local/lib/python3.6/dist-packages/sklearn/neural_network/_multilayer_perceptron.py:571: ConvergenceWarning: Stochastic Optimizer: Maximum iterations (200) reached and the optimization hasn't converged yet.\n",
      "  % self.max_iter, ConvergenceWarning)\n",
      "/usr/local/lib/python3.6/dist-packages/sklearn/neural_network/_multilayer_perceptron.py:571: ConvergenceWarning: Stochastic Optimizer: Maximum iterations (200) reached and the optimization hasn't converged yet.\n",
      "  % self.max_iter, ConvergenceWarning)\n",
      "/usr/local/lib/python3.6/dist-packages/sklearn/neural_network/_multilayer_perceptron.py:571: ConvergenceWarning: Stochastic Optimizer: Maximum iterations (200) reached and the optimization hasn't converged yet.\n",
      "  % self.max_iter, ConvergenceWarning)\n",
      "/usr/local/lib/python3.6/dist-packages/sklearn/neural_network/_multilayer_perceptron.py:571: ConvergenceWarning: Stochastic Optimizer: Maximum iterations (200) reached and the optimization hasn't converged yet.\n",
      "  % self.max_iter, ConvergenceWarning)\n",
      "/usr/local/lib/python3.6/dist-packages/sklearn/neural_network/_multilayer_perceptron.py:571: ConvergenceWarning: Stochastic Optimizer: Maximum iterations (200) reached and the optimization hasn't converged yet.\n",
      "  % self.max_iter, ConvergenceWarning)\n",
      "/usr/local/lib/python3.6/dist-packages/sklearn/neural_network/_multilayer_perceptron.py:571: ConvergenceWarning: Stochastic Optimizer: Maximum iterations (200) reached and the optimization hasn't converged yet.\n",
      "  % self.max_iter, ConvergenceWarning)\n",
      "/usr/local/lib/python3.6/dist-packages/sklearn/neural_network/_multilayer_perceptron.py:571: ConvergenceWarning: Stochastic Optimizer: Maximum iterations (200) reached and the optimization hasn't converged yet.\n",
      "  % self.max_iter, ConvergenceWarning)\n",
      "/usr/local/lib/python3.6/dist-packages/sklearn/neural_network/_multilayer_perceptron.py:571: ConvergenceWarning: Stochastic Optimizer: Maximum iterations (200) reached and the optimization hasn't converged yet.\n",
      "  % self.max_iter, ConvergenceWarning)\n",
      "/usr/local/lib/python3.6/dist-packages/sklearn/neural_network/_multilayer_perceptron.py:571: ConvergenceWarning: Stochastic Optimizer: Maximum iterations (200) reached and the optimization hasn't converged yet.\n",
      "  % self.max_iter, ConvergenceWarning)\n",
      "/usr/local/lib/python3.6/dist-packages/sklearn/neural_network/_multilayer_perceptron.py:470: ConvergenceWarning: lbfgs failed to converge (status=1):\n",
      "STOP: TOTAL NO. of ITERATIONS REACHED LIMIT.\n",
      "\n",
      "Increase the number of iterations (max_iter) or scale the data as shown in:\n",
      "    https://scikit-learn.org/stable/modules/preprocessing.html\n",
      "  self.n_iter_ = _check_optimize_result(\"lbfgs\", opt_res, self.max_iter)\n",
      "/usr/local/lib/python3.6/dist-packages/sklearn/neural_network/_multilayer_perceptron.py:470: ConvergenceWarning: lbfgs failed to converge (status=1):\n",
      "STOP: TOTAL NO. of ITERATIONS REACHED LIMIT.\n",
      "\n",
      "Increase the number of iterations (max_iter) or scale the data as shown in:\n",
      "    https://scikit-learn.org/stable/modules/preprocessing.html\n",
      "  self.n_iter_ = _check_optimize_result(\"lbfgs\", opt_res, self.max_iter)\n",
      "/usr/local/lib/python3.6/dist-packages/sklearn/neural_network/_multilayer_perceptron.py:571: ConvergenceWarning: Stochastic Optimizer: Maximum iterations (200) reached and the optimization hasn't converged yet.\n",
      "  % self.max_iter, ConvergenceWarning)\n",
      "/usr/local/lib/python3.6/dist-packages/sklearn/neural_network/_multilayer_perceptron.py:571: ConvergenceWarning: Stochastic Optimizer: Maximum iterations (200) reached and the optimization hasn't converged yet.\n",
      "  % self.max_iter, ConvergenceWarning)\n",
      "/usr/local/lib/python3.6/dist-packages/sklearn/neural_network/_multilayer_perceptron.py:571: ConvergenceWarning: Stochastic Optimizer: Maximum iterations (200) reached and the optimization hasn't converged yet.\n",
      "  % self.max_iter, ConvergenceWarning)\n",
      "/usr/local/lib/python3.6/dist-packages/sklearn/neural_network/_multilayer_perceptron.py:571: ConvergenceWarning: Stochastic Optimizer: Maximum iterations (200) reached and the optimization hasn't converged yet.\n",
      "  % self.max_iter, ConvergenceWarning)\n",
      "/usr/local/lib/python3.6/dist-packages/sklearn/neural_network/_multilayer_perceptron.py:571: ConvergenceWarning: Stochastic Optimizer: Maximum iterations (200) reached and the optimization hasn't converged yet.\n",
      "  % self.max_iter, ConvergenceWarning)\n"
     ]
    },
    {
     "data": {
      "text/plain": [
       "GridSearchCV(cv=None, error_score=nan,\n",
       "             estimator=MLPClassifier(activation='relu', alpha=0.0001,\n",
       "                                     batch_size='auto', beta_1=0.9,\n",
       "                                     beta_2=0.999, early_stopping=False,\n",
       "                                     epsilon=1e-08, hidden_layer_sizes=(100,),\n",
       "                                     learning_rate='constant',\n",
       "                                     learning_rate_init=0.001, max_fun=15000,\n",
       "                                     max_iter=200, momentum=0.9,\n",
       "                                     n_iter_no_change=10,\n",
       "                                     nesterovs_momentum=True, power_t=0.5,\n",
       "                                     random_state=None, shuffle=True,\n",
       "                                     solver='adam', tol=0.0001,\n",
       "                                     validation_fraction=0.1, verbose=False,\n",
       "                                     warm_start=False),\n",
       "             iid='deprecated', n_jobs=None,\n",
       "             param_grid={'activation': ('relu', 'tanh'),\n",
       "                         'alpha': [0.001, 0.01, 0.1],\n",
       "                         'hidden_layer_sizes': [(128,), (128, 64)],\n",
       "                         'solver': ('lbfgs', 'sgd', 'adam')},\n",
       "             pre_dispatch='2*n_jobs', refit=True, return_train_score=False,\n",
       "             scoring=None, verbose=0)"
      ]
     },
     "execution_count": 101,
     "metadata": {
      "tags": []
     },
     "output_type": "execute_result"
    }
   ],
   "source": [
    "# Create the model\r\n",
    "mlp_clf_2 = MLPClassifier()\r\n",
    "# Create tuning parameters\r\n",
    "parameters_nn = {'solver':('lbfgs', 'sgd', 'adam'), 'alpha':[1e-3,1e-2, 1e-1],\r\n",
    "              'activation':('relu','tanh'), 'hidden_layer_sizes':[(128,), (128,64)]}\r\n",
    "# Create GridSearchCV\r\n",
    "grid_search_nn = GridSearchCV(mlp_clf_2, parameters_nn)\r\n",
    "# Train the model\r\n",
    "grid_search_nn.fit(X_train_spacy, y_true_train)"
   ]
  },
  {
   "cell_type": "code",
   "execution_count": 111,
   "metadata": {
    "colab": {
     "base_uri": "https://localhost:8080/"
    },
    "id": "z_YtILnSIWAv",
    "outputId": "8123eab8-e6cc-414a-bab8-9732e0c1e7d2"
   },
   "outputs": [
    {
     "data": {
      "text/plain": [
       "{'activation': 'relu',\n",
       " 'alpha': 0.01,\n",
       " 'hidden_layer_sizes': (128, 64),\n",
       " 'solver': 'adam'}"
      ]
     },
     "execution_count": 111,
     "metadata": {
      "tags": []
     },
     "output_type": "execute_result"
    }
   ],
   "source": [
    "grid_search_nn.best_params_"
   ]
  },
  {
   "cell_type": "code",
   "execution_count": 112,
   "metadata": {
    "colab": {
     "base_uri": "https://localhost:8080/"
    },
    "id": "4qXhj47aIXsq",
    "outputId": "f6d7b01b-2641-40a1-e478-0f8409ae585d"
   },
   "outputs": [
    {
     "name": "stdout",
     "output_type": "stream",
     "text": [
      "Classificaton report for test data with GridSearchCV for Neural Network\n",
      "\n",
      "                      precision    recall  f1-score   support\n",
      "\n",
      "       AddToPlaylist       0.97      1.00      0.99       100\n",
      "      BookRestaurant       0.99      0.99      0.99       100\n",
      "          GetWeather       0.98      1.00      0.99       100\n",
      "           PlayMusic       0.99      0.96      0.97       100\n",
      "            RateBook       1.00      1.00      1.00       100\n",
      "  SearchCreativeWork       0.95      0.97      0.96       100\n",
      "SearchScreeningEvent       0.98      0.94      0.96       100\n",
      "\n",
      "            accuracy                           0.98       700\n",
      "           macro avg       0.98      0.98      0.98       700\n",
      "        weighted avg       0.98      0.98      0.98       700\n",
      "\n"
     ]
    }
   ],
   "source": [
    "y_pred_test_nn2 = grid_search_nn.predict(X_test_spacy)\r\n",
    "print('Classificaton report for test data with GridSearchCV for Neural Network')\r\n",
    "print('')\r\n",
    "print(classification_report(y_true_test, y_pred_test_nn2))"
   ]
  },
  {
   "cell_type": "code",
   "execution_count": null,
   "metadata": {
    "id": "YrCvHLq3IZHQ"
   },
   "outputs": [],
   "source": []
  }
 ],
 "metadata": {
  "accelerator": "GPU",
  "colab": {
   "collapsed_sections": [],
   "name": "Assignment 1.ipynb",
   "provenance": []
  },
  "kernelspec": {
   "display_name": "Python 3",
   "language": "python",
   "name": "python3"
  },
  "language_info": {
   "codemirror_mode": {
    "name": "ipython",
    "version": 3
   },
   "file_extension": ".py",
   "mimetype": "text/x-python",
   "name": "python",
   "nbconvert_exporter": "python",
   "pygments_lexer": "ipython3",
   "version": "3.7.9"
  }
 },
 "nbformat": 4,
 "nbformat_minor": 4
}
